{
 "cells": [
  {
   "cell_type": "markdown",
   "metadata": {},
   "source": [
    "### Працюємо з програмою інтерактивно\n",
    ">Спробуємо помістити нашу програму в різні комірки Jupyter Notebook та додати пояснення."
   ]
  },
  {
   "cell_type": "markdown",
   "metadata": {},
   "source": [
    "- робимо клітинку з імпортами бібліотек Python:"
   ]
  },
  {
   "cell_type": "code",
   "execution_count": 24,
   "metadata": {},
   "outputs": [],
   "source": [
    "from datetime import datetime\n",
    "from time import time, localtime, strftime"
   ]
  },
  {
   "cell_type": "markdown",
   "metadata": {},
   "source": [
    "- задаємо клітинку зі змінними:"
   ]
  },
  {
   "cell_type": "code",
   "execution_count": 25,
   "metadata": {},
   "outputs": [],
   "source": [
    "name = \"Богдан\"\n",
    "location = \"Львів\""
   ]
  },
  {
   "cell_type": "markdown",
   "metadata": {},
   "source": [
    "- використовуємо функцію `print` для виводу тексту зі змінними:"
   ]
  },
  {
   "cell_type": "code",
   "execution_count": 26,
   "metadata": {},
   "outputs": [
    {
     "name": "stdout",
     "output_type": "stream",
     "text": [
      "Богдан почав вчитись програмуванню о 10:54:36 годині, 2023-09-20. Львів найкраще місто!\n"
     ]
    }
   ],
   "source": [
    "print(f\"{name} почав вчитись програмуванню о {datetime.now().time().replace(microsecond=0)} годині, {datetime.now().date()}. {location} найкраще місто!\")"
   ]
  },
  {
   "cell_type": "markdown",
   "metadata": {},
   "source": [
    "- спробуємо вивести час від початку Епохи (Linux час)"
   ]
  },
  {
   "cell_type": "code",
   "execution_count": 27,
   "metadata": {},
   "outputs": [
    {
     "name": "stdout",
     "output_type": "stream",
     "text": [
      "Час від початку Епохи: 1695196476.4742336\n"
     ]
    }
   ],
   "source": [
    "print(f\"Час від початку Епохи: {time()}\")"
   ]
  },
  {
   "cell_type": "markdown",
   "metadata": {},
   "source": [
    "### Спитались у ChatGPT як зробити час зрозумілим для людини"
   ]
  },
  {
   "cell_type": "code",
   "execution_count": 28,
   "metadata": {},
   "outputs": [],
   "source": [
    "local_time = localtime(time())  # Перетворюємо час у локальний час\n",
    "\n",
    "# Форматуємо час у звичний для людини формат (підправляємо дату для Українського)\n",
    "formatted_time = strftime(\"%d.%m.%Y %H:%M:%S\", local_time)"
   ]
  },
  {
   "cell_type": "code",
   "execution_count": 29,
   "metadata": {},
   "outputs": [
    {
     "name": "stdout",
     "output_type": "stream",
     "text": [
      "Поточний час: 20.09.2023 10:54:36\n"
     ]
    }
   ],
   "source": [
    "print(\"Поточний час:\", formatted_time) # друкуємо поточний час"
   ]
  }
 ],
 "metadata": {
  "kernelspec": {
   "display_name": "Python 3",
   "language": "python",
   "name": "python3"
  },
  "language_info": {
   "codemirror_mode": {
    "name": "ipython",
    "version": 3
   },
   "file_extension": ".py",
   "mimetype": "text/x-python",
   "name": "python",
   "nbconvert_exporter": "python",
   "pygments_lexer": "ipython3",
   "version": "3.11.5"
  },
  "orig_nbformat": 4
 },
 "nbformat": 4,
 "nbformat_minor": 2
}
