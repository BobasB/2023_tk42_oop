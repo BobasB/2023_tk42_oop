{
 "cells": [
  {
   "cell_type": "markdown",
   "metadata": {},
   "source": [
    "### Основи Python\n",
    "#### Основні типи даних\n",
    "- текстовий/стрічковий тип даних:"
   ]
  },
  {
   "cell_type": "code",
   "execution_count": null,
   "metadata": {},
   "outputs": [],
   "source": [
    "print(\"Це просто стрічка яку ми хочемо надрукувати.\")\n",
    "a = \"Це стрічка яка присвоєна змінній\"\n",
    "print(a) # ми просто виводимо вміст змінної\n",
    "b = 'Це теж саме'\n",
    "print(\"Вміст змінної наступний: \", b, \"\\nТип даної змінної буде: \", type(b))\n",
    "\n",
    "c = str(\"Це буде текстовий обєкт\")\n",
    "print(\"Якщо просто виведемо обєкт то буде: \", c)\n",
    "\n",
    "print(\"Перевіряємо чи у стрічці є цифра: \", c.isdigit())\n",
    "\n",
    "d = c.__add__(\"А це буде добавлено до обєкту\")\n",
    "print(\"Після використання методу __add__ будемо мати: \", d, \"\\nА ти змінної d буде: \", type(d))"
   ]
  },
  {
   "cell_type": "markdown",
   "metadata": {},
   "source": [
    "- кКонкатенація стрічок (додавана) та множення"
   ]
  },
  {
   "cell_type": "code",
   "execution_count": null,
   "metadata": {},
   "outputs": [],
   "source": [
    "e = \"стрічка 1\"\n",
    "f = \"стрічка 2\"\n",
    "\n",
    "g = e + f\n",
    "print(\"При конкатенації стрічок буде: \", g)\n",
    "g = e.__add__(f)\n",
    "print(\"Це має такий самий результат тільки зрозуміліший для інтерпретатора Python: \", g)\n",
    "print(\"А що будякщо помножити стрічку на число?\")\n",
    "\n",
    "print(\"ЦЕ ВСЕ БУДЕ МАЛИМИ БУКВАМИ\".lower() * 4)\n",
    "print(\"Найчастіше множення стрічок роблять для от таких штук:\\n\", \"+=\" + \"-<!>-\" * 3 + \"=+\")"
   ]
  },
  {
   "cell_type": "markdown",
   "metadata": {},
   "source": [
    "- числові типи даних"
   ]
  },
  {
   "cell_type": "code",
   "execution_count": 9,
   "metadata": {},
   "outputs": [
    {
     "name": "stdout",
     "output_type": "stream",
     "text": [
      "В обох випадках маємо:  <class 'int'> та <class 'int'>\n",
      "Тут ми явно перетворюємо тип даних:  <class 'float'> Значення 1.5 \n",
      " можна його перетворити в  <class 'int'> І значення буде 1 \n",
      "Та навпаки, тип  <class 'int'> Можемо перетворити в  <class 'float'> І значення буде 1.0\n",
      "При перетворенні цифр на символи ми будемо мати:  1.5 перетворитьсч на 1.5\n"
     ]
    }
   ],
   "source": [
    "a = 1\n",
    "b = int(1)\n",
    "print(\"В обох випадках маємо: \", type(a), \"та\", type(b))\n",
    "c = 1.5\n",
    "d = int(c)\n",
    "e = float(a)\n",
    "print(\"Тут ми явно перетворюємо тип даних: \", type(c), \"Значення\", c,\n",
    "        \"\\n можна його перетворити в \", type(d), \"І значення буде\", d,\n",
    "        \"\\nТа навпаки, тип \", type(a), \"Можемо перетворити в \", type(e), \"І значення буде\", e)\n",
    "\n",
    "f = str(c)\n",
    "print(\"При перетворенні цифр на символи ми будемо мати: \", c, \"перетворитьсч на\", f)"
   ]
  },
  {
   "cell_type": "markdown",
   "metadata": {},
   "source": [
    "- тут винекне помилка бо цифри у вигляді стрічок не можуть виконувати операції з ппростими числами"
   ]
  },
  {
   "cell_type": "code",
   "execution_count": 13,
   "metadata": {},
   "outputs": [
    {
     "name": "stdout",
     "output_type": "stream",
     "text": [
      "Перше значення:  1.5 Друге значення 1.5 Тепер додаємо:\n"
     ]
    },
    {
     "ename": "TypeError",
     "evalue": "unsupported operand type(s) for +: 'float' and 'str'",
     "output_type": "error",
     "traceback": [
      "\u001b[1;31m---------------------------------------------------------------------------\u001b[0m",
      "\u001b[1;31mTypeError\u001b[0m                                 Traceback (most recent call last)",
      "\u001b[1;32mc:\\IT_College_Students\\2023_tk42_oop\\2_lab\\nb.ipynb Cell 8\u001b[0m line \u001b[0;36m2\n\u001b[0;32m      <a href='vscode-notebook-cell:/c%3A/IT_College_Students/2023_tk42_oop/2_lab/nb.ipynb#W6sZmlsZQ%3D%3D?line=0'>1</a>\u001b[0m \u001b[39mprint\u001b[39m(\u001b[39m\"\u001b[39m\u001b[39mПерше значення: \u001b[39m\u001b[39m\"\u001b[39m, c, \u001b[39m\"\u001b[39m\u001b[39mДруге значення\u001b[39m\u001b[39m\"\u001b[39m, f, \u001b[39m\"\u001b[39m\u001b[39mТепер додаємо:\u001b[39m\u001b[39m\"\u001b[39m)\n\u001b[1;32m----> <a href='vscode-notebook-cell:/c%3A/IT_College_Students/2023_tk42_oop/2_lab/nb.ipynb#W6sZmlsZQ%3D%3D?line=1'>2</a>\u001b[0m \u001b[39mprint\u001b[39m(c \u001b[39m+\u001b[39;49m f)\n",
      "\u001b[1;31mTypeError\u001b[0m: unsupported operand type(s) for +: 'float' and 'str'"
     ]
    }
   ],
   "source": [
    "print(\"Перше значення: \", c, \"Друге значення\", f, \"Тепер додаємо:\")\n",
    "print(c + f)"
   ]
  },
  {
   "cell_type": "markdown",
   "metadata": {},
   "source": [
    "- розбираємось з `list` VS `tuple`\n",
    "> `list` - можна модифікувати томущо він є mutable\n",
    "\n",
    "> `tuple` - не можна модифікувати після його створення бо він Immutable"
   ]
  },
  {
   "cell_type": "code",
   "execution_count": 23,
   "metadata": {},
   "outputs": [
    {
     "name": "stdout",
     "output_type": "stream",
     "text": [
      "Початкові значення списків, \n",
      "l:  [0, 1] \n",
      "ll: [0, 1, 2, 3]\n",
      "Після додавання буде, \n",
      "l:  [0, 1, 2] \n",
      "Після вствлення буде, \n",
      "ll:  [0, 'Це буде елемент який ми вставляємо у список!', 1, 2, 3]\n",
      "Також можна видалити вставлений елемент: Це буде елемент який ми вставляємо у список! \n",
      "Тоді наш список буде: [0, 1, 2, 3]\n"
     ]
    }
   ],
   "source": [
    "# два способи створити список\n",
    "l = [0, 1]\n",
    "ll = list([0, 1, 2, 3])\n",
    "print(\"Початкові значення списків, \\nl: \", l, \"\\nll:\", ll)\n",
    "l.append(2)\n",
    "ll.insert(1, \"Це буде елемент який ми вставляємо у список!\") # (на яку позицію вставляємо, що саме вставляєо)\n",
    "print(\"Після додавання буде, \\nl: \", l, \"\\nПісля вствлення буде, \\nll: \", ll)\n",
    "print(\"Також можна видалити вставлений елемент:\", ll.pop(1), \"\\nТоді наш список буде:\", ll)"
   ]
  },
  {
   "cell_type": "code",
   "execution_count": 32,
   "metadata": {},
   "outputs": [
    {
     "name": "stdout",
     "output_type": "stream",
     "text": [
      "Початкові значення tuple, \n",
      "t:  (0, 1, 2, 0) \n",
      "tt: (0, 5, 4, 3, 2, 1)\n",
      "Tuple не можна змінювати, лише порахувати як часто зустрічаються певні елементи, 0 в t зустрічається 2 рази \n",
      "Або взнати під яким індексом знаходиться певний елемент, 1 в tt:  5 індексом/позицієм\n"
     ]
    }
   ],
   "source": [
    "t = (0, 1, 2, 0)\n",
    "tt = tuple([0, 5, 4, 3, 2, 1])\n",
    "print(\"Початкові значення tuple, \\nt: \", t, \"\\ntt:\", tt)\n",
    "print(\"Tuple не можна змінювати, лише порахувати як часто зустрічаються певні елементи, 0 в t зустрічається\", t.count(0), \"рази\",\n",
    "      \"\\nАбо взнати під яким індексом знаходиться певний елемент, 1 в tt: \", tt.index(1), \"індексом/позицієм\")"
   ]
  }
 ],
 "metadata": {
  "kernelspec": {
   "display_name": "Python 3",
   "language": "python",
   "name": "python3"
  },
  "language_info": {
   "codemirror_mode": {
    "name": "ipython",
    "version": 3
   },
   "file_extension": ".py",
   "mimetype": "text/x-python",
   "name": "python",
   "nbconvert_exporter": "python",
   "pygments_lexer": "ipython3",
   "version": "3.11.5"
  },
  "orig_nbformat": 4
 },
 "nbformat": 4,
 "nbformat_minor": 2
}
