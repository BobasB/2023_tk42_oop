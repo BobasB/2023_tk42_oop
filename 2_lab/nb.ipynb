{
 "cells": [
  {
   "cell_type": "markdown",
   "metadata": {},
   "source": [
    "### Основи Python\n",
    "#### Основні типи даних\n",
    "- текстовий/стрічковий тип даних:"
   ]
  },
  {
   "cell_type": "code",
   "execution_count": 1,
   "metadata": {},
   "outputs": [
    {
     "name": "stdout",
     "output_type": "stream",
     "text": [
      "Це просто стрічка яку ми хочемо надрукувати.\n",
      "Це стрічка яка присвоєна змінній\n",
      "Вміст змінної наступний:  Це теж саме \n",
      "Тип даної змінної буде:  <class 'str'>\n",
      "Якщо просто виведемо обєкт то буде:  Це буде текстовий обєкт\n",
      "Перевіряємо чи у стрічці є цифра:  False\n",
      "Після використання методу __add__ будемо мати:  Це буде текстовий обєктА це буде добавлено до обєкту \n",
      "А ти змінної d буде:  <class 'str'>\n"
     ]
    }
   ],
   "source": [
    "print(\"Це просто стрічка яку ми хочемо надрукувати.\")\n",
    "a = \"Це стрічка яка присвоєна змінній\"\n",
    "print(a) # ми просто виводимо вміст змінної\n",
    "b = 'Це теж саме'\n",
    "print(\"Вміст змінної наступний: \", b, \"\\nТип даної змінної буде: \", type(b))\n",
    "\n",
    "c = str(\"Це буде текстовий обєкт\")\n",
    "print(\"Якщо просто виведемо обєкт то буде: \", c)\n",
    "\n",
    "print(\"Перевіряємо чи у стрічці є цифра: \", c.isdigit())\n",
    "\n",
    "d = c.__add__(\"А це буде добавлено до обєкту\")\n",
    "print(\"Після використання методу __add__ будемо мати: \", d, \"\\nА ти змінної d буде: \", type(d))"
   ]
  },
  {
   "cell_type": "markdown",
   "metadata": {},
   "source": [
    "- конкатенація стрічок (додавана) та множення"
   ]
  },
  {
   "cell_type": "code",
   "execution_count": 2,
   "metadata": {},
   "outputs": [
    {
     "name": "stdout",
     "output_type": "stream",
     "text": [
      "При конкатенації стрічок буде:  стрічка 1стрічка 2\n",
      "Це має такий самий результат тільки зрозуміліший для інтерпретатора Python:  стрічка 1стрічка 2\n",
      "А що будякщо помножити стрічку на число?\n",
      "це все буде малими буквамице все буде малими буквамице все буде малими буквамице все буде малими буквами\n",
      "Найчастіше множення стрічок роблять для от таких штук:\n",
      " +=-<!>--<!>--<!>-=+\n"
     ]
    }
   ],
   "source": [
    "e = \"стрічка 1\"\n",
    "f = \"стрічка 2\"\n",
    "\n",
    "g = e + f\n",
    "print(\"При конкатенації стрічок буде: \", g)\n",
    "g = e.__add__(f)\n",
    "print(\"Це має такий самий результат тільки зрозуміліший для інтерпретатора Python: \", g)\n",
    "print(\"А що будякщо помножити стрічку на число?\")\n",
    "\n",
    "print(\"ЦЕ ВСЕ БУДЕ МАЛИМИ БУКВАМИ\".lower() * 4)\n",
    "print(\"Найчастіше множення стрічок роблять для от таких штук:\\n\", \"+=\" + \"-<!>-\" * 3 + \"=+\")"
   ]
  },
  {
   "cell_type": "markdown",
   "metadata": {},
   "source": [
    "- числові типи даних"
   ]
  },
  {
   "cell_type": "code",
   "execution_count": 3,
   "metadata": {},
   "outputs": [
    {
     "name": "stdout",
     "output_type": "stream",
     "text": [
      "В обох випадках маємо:  <class 'int'> та <class 'int'>\n",
      "Тут ми явно перетворюємо тип даних:  <class 'float'> Значення 1.5 \n",
      " можна його перетворити в  <class 'int'> І значення буде 1 \n",
      "Та навпаки, тип  <class 'int'> Можемо перетворити в  <class 'float'> І значення буде 1.0\n",
      "При перетворенні цифр на символи ми будемо мати:  1.5 перетворитьсч на 1.5\n"
     ]
    }
   ],
   "source": [
    "a = 1\n",
    "b = int(1)\n",
    "print(\"В обох випадках маємо: \", type(a), \"та\", type(b))\n",
    "c = 1.5\n",
    "d = int(c)\n",
    "e = float(a)\n",
    "print(\"Тут ми явно перетворюємо тип даних: \", type(c), \"Значення\", c,\n",
    "        \"\\n можна його перетворити в \", type(d), \"І значення буде\", d,\n",
    "        \"\\nТа навпаки, тип \", type(a), \"Можемо перетворити в \", type(e), \"І значення буде\", e)\n",
    "\n",
    "f = str(c)\n",
    "print(\"При перетворенні цифр на символи ми будемо мати: \", c, \"перетворитьсч на\", f)"
   ]
  },
  {
   "cell_type": "markdown",
   "metadata": {},
   "source": [
    "- тут винекне помилка бо цифри у вигляді стрічок не можуть виконувати операції з ппростими числами"
   ]
  },
  {
   "cell_type": "code",
   "execution_count": 4,
   "metadata": {},
   "outputs": [
    {
     "name": "stdout",
     "output_type": "stream",
     "text": [
      "Перше значення:  1.5 Друге значення 1.5 Тепер додаємо:\n"
     ]
    }
   ],
   "source": [
    "print(\"Перше значення: \", c, \"Друге значення\", f, \"Тепер додаємо:\")\n",
    "# код нижче виведе помилку\n",
    "#print(c + f)"
   ]
  },
  {
   "cell_type": "markdown",
   "metadata": {},
   "source": [
    "- розбираємось з `list` VS `tuple`\n",
    "> `list` - можна модифікувати томущо він є mutable\n",
    "\n",
    "> `tuple` - не можна модифікувати після його створення бо він Immutable"
   ]
  },
  {
   "cell_type": "code",
   "execution_count": 5,
   "metadata": {},
   "outputs": [
    {
     "name": "stdout",
     "output_type": "stream",
     "text": [
      "Початкові значення списків, \n",
      "l:  [0, 1] \n",
      "ll: [0, 1, 2, 3]\n",
      "Після додавання буде, \n",
      "l:  [0, 1, 2] \n",
      "Після вствлення буде, \n",
      "ll:  [0, 'Це буде елемент який ми вставляємо у список!', 1, 2, 3]\n",
      "Також можна видалити вставлений елемент: Це буде елемент який ми вставляємо у список! \n",
      "Тоді наш список буде: [0, 1, 2, 3]\n"
     ]
    }
   ],
   "source": [
    "# два способи створити список\n",
    "l = [0, 1]\n",
    "ll = list([0, 1, 2, 3])\n",
    "print(\"Початкові значення списків, \\nl: \", l, \"\\nll:\", ll)\n",
    "l.append(2)\n",
    "ll.insert(1, \"Це буде елемент який ми вставляємо у список!\") # (на яку позицію вставляємо, що саме вставляєо)\n",
    "print(\"Після додавання буде, \\nl: \", l, \"\\nПісля вствлення буде, \\nll: \", ll)\n",
    "print(\"Також можна видалити вставлений елемент:\", ll.pop(1), \"\\nТоді наш список буде:\", ll)"
   ]
  },
  {
   "cell_type": "code",
   "execution_count": 6,
   "metadata": {},
   "outputs": [
    {
     "name": "stdout",
     "output_type": "stream",
     "text": [
      "Початкові значення tuple, \n",
      "t:  (0, 1, 2, 0) \n",
      "tt: (0, 5, 4, 3, 2, 1)\n",
      "Tuple не можна змінювати, лише порахувати як часто зустрічаються певні елементи, 0 в t зустрічається 2 рази \n",
      "Або взнати під яким індексом знаходиться певний елемент, 1 в tt:  5 індексом/позицієм\n"
     ]
    }
   ],
   "source": [
    "t = (0, 1, 2, 0)\n",
    "tt = tuple([0, 5, 4, 3, 2, 1])\n",
    "print(\"Початкові значення tuple, \\nt: \", t, \"\\ntt:\", tt)\n",
    "print(\"Tuple не можна змінювати, лише порахувати як часто зустрічаються певні елементи, 0 в t зустрічається\", t.count(0), \"рази\",\n",
    "      \"\\nАбо взнати під яким індексом знаходиться певний елемент, 1 в tt: \", tt.index(1), \"індексом/позицієм\")"
   ]
  },
  {
   "cell_type": "markdown",
   "metadata": {},
   "source": [
    "- знайомство з Set"
   ]
  },
  {
   "cell_type": "code",
   "execution_count": 7,
   "metadata": {},
   "outputs": [
    {
     "name": "stdout",
     "output_type": "stream",
     "text": [
      "У Set містяться тільки унікальні елементи, якщо взяти List  [1, 2, 1, 2, 3] і утворити Set {1, 2, 3}\n",
      "1\n"
     ]
    }
   ],
   "source": [
    "ll = [1, 2, 1, 2, 3]\n",
    "ss = set(ll)\n",
    "print(\"У Set містяться тільки унікальні елементи, якщо взяти List \",ll, \"і утворити Set\", ss)\n",
    "\n",
    "print(ss.pop())"
   ]
  },
  {
   "cell_type": "markdown",
   "metadata": {},
   "source": [
    ">найчастіше Set використовують для знаходження унікальних елементів списку"
   ]
  },
  {
   "cell_type": "code",
   "execution_count": 8,
   "metadata": {},
   "outputs": [
    {
     "name": "stdout",
     "output_type": "stream",
     "text": [
      "Знайшли унікальні елементи та перетворили отримані елементи назад у список: [1, 2, 3]\n"
     ]
    }
   ],
   "source": [
    "u = list(set(ll))\n",
    "print(\"Знайшли унікальні елементи та перетворили отримані елементи назад у список:\", u)"
   ]
  },
  {
   "cell_type": "markdown",
   "metadata": {},
   "source": [
    "- знайомство з dict"
   ]
  },
  {
   "cell_type": "code",
   "execution_count": 9,
   "metadata": {},
   "outputs": [
    {
     "name": "stdout",
     "output_type": "stream",
     "text": [
      "Для того щоб доступитись до певного елемента ми повинні значити значення ключа: Це значення Bohdan\n",
      "не плутайтесь якщо ключ і значення є однаковими:  True\n",
      "Утворений словник буде:  {'Name': 'name', 'new': 1} а доступитись до його елеметна ми можемо двояко: name або name\n",
      "Забираємо з словника елемент з ключем new:  1\n",
      "Все що залишилось:  {'Name': 'name'}\n"
     ]
    }
   ],
   "source": [
    "dd = {\"Це ключ Bohdan\": \"Це значення Bohdan\", \"True\": True}\n",
    "\n",
    "print(\"Для того щоб доступитись до певного елемента ми повинні значити значення ключа:\", dd[\"Це ключ Bohdan\"])\n",
    "\n",
    "print(\"не плутайтесь якщо ключ і значення є однаковими: \", dd[\"True\"])\n",
    "\n",
    "name = \"Name\"\n",
    "dd2 = dict({name: \"name\", \"new\": 1})\n",
    "print(\"Утворений словник буде: \", dd2, \"а доступитись до його елеметна ми можемо двояко:\", dd2[name], \"або\", dd2[\"Name\"])\n",
    "\n",
    "print(\"Забираємо з словника елемент з ключем new: \", dd2.pop(\"new\"))\n",
    "print(\"Все що залишилось: \", dd2)"
   ]
  },
  {
   "cell_type": "markdown",
   "metadata": {},
   "source": [
    "- зарезервовані змінні"
   ]
  },
  {
   "cell_type": "code",
   "execution_count": 10,
   "metadata": {},
   "outputs": [
    {
     "name": "stdout",
     "output_type": "stream",
     "text": [
      "Ці два значення не однакові:  True не буде рівним True \n",
      "Тому що при перевірці видає: False\n",
      "Тому що перший є  <class 'bool'> а другий буде <class 'str'>\n",
      "Перевірка буде справджуватись якщо:  True\n"
     ]
    }
   ],
   "source": [
    "a = True\n",
    "b = 'True'\n",
    "print(\"Ці два значення не однакові: \", a, \"не буде рівним\", b, \"\\nТому що при перевірці видає:\", a == b)\n",
    "print(\"Тому що перший є \", type(a), \"а другий буде\", type(b))\n",
    "print(\"Перевірка буде справджуватись якщо: \", a == True)"
   ]
  },
  {
   "cell_type": "markdown",
   "metadata": {},
   "source": [
    "- запитались в ChatGPT що виведе наша програма, відповідь нижче:\n",
    "Ця програма виведе наступний результат:\n",
    "\n",
    "```\n",
    "Перевірка буде справджуватись якщо: False\n",
    "```\n",
    "\n",
    "У вашій програмі ви порівнюєте логічну змінну `a` (зі значенням `True`) і рядок `b` (зі значенням 'True'). Вони різні за типом даних, тому порівняння `a == b` буде `False`, оскільки вони не мають однакових значень і типів даних."
   ]
  },
  {
   "cell_type": "markdown",
   "metadata": {},
   "source": [
    "- вбудовані функції"
   ]
  },
  {
   "cell_type": "code",
   "execution_count": 11,
   "metadata": {},
   "outputs": [
    {
     "name": "stdout",
     "output_type": "stream",
     "text": [
      "Пробуємо вбудовану функцію type. Значення  <class 'bool'> буде теж саме що <class 'bool'>\n",
      "Можна застосовувати тільки до модулів, результат буде: \n",
      "\n",
      "\n",
      "\n",
      " {'__name__': 'datetime', '__doc__': 'Fast implementation of the datetime type.', '__package__': '', '__loader__': <_frozen_importlib_external.SourceFileLoader object at 0x000001EF42A48D10>, '__spec__': ModuleSpec(name='datetime', loader=<_frozen_importlib_external.SourceFileLoader object at 0x000001EF42A48D10>, origin='c:\\\\Users\\\\Admin\\\\AppData\\\\Local\\\\Programs\\\\Python\\\\Python311\\\\Lib\\\\datetime.py'), '__file__': 'c:\\\\Users\\\\Admin\\\\AppData\\\\Local\\\\Programs\\\\Python\\\\Python311\\\\Lib\\\\datetime.py', '__cached__': 'c:\\\\Users\\\\Admin\\\\AppData\\\\Local\\\\Programs\\\\Python\\\\Python311\\\\Lib\\\\__pycache__\\\\datetime.cpython-311.pyc', '__builtins__': {'__name__': 'builtins', '__doc__': \"Built-in functions, types, exceptions, and other objects.\\n\\nThis module provides direct access to all 'built-in'\\nidentifiers of Python; for example, builtins.len is\\nthe full name for the built-in function len().\\n\\nThis module is not normally accessed explicitly by most\\napplications, but can be useful in modules that provide\\nobjects with the same name as a built-in value, but in\\nwhich the built-in of that name is also needed.\", '__package__': '', '__loader__': <class '_frozen_importlib.BuiltinImporter'>, '__spec__': ModuleSpec(name='builtins', loader=<class '_frozen_importlib.BuiltinImporter'>, origin='built-in'), '__build_class__': <built-in function __build_class__>, '__import__': <built-in function __import__>, 'abs': <built-in function abs>, 'all': <built-in function all>, 'any': <built-in function any>, 'ascii': <built-in function ascii>, 'bin': <built-in function bin>, 'breakpoint': <built-in function breakpoint>, 'callable': <built-in function callable>, 'chr': <built-in function chr>, 'compile': <built-in function compile>, 'delattr': <built-in function delattr>, 'dir': <built-in function dir>, 'divmod': <built-in function divmod>, 'eval': <built-in function eval>, 'exec': <built-in function exec>, 'format': <built-in function format>, 'getattr': <built-in function getattr>, 'globals': <built-in function globals>, 'hasattr': <built-in function hasattr>, 'hash': <built-in function hash>, 'hex': <built-in function hex>, 'id': <built-in function id>, 'input': <bound method Kernel.raw_input of <ipykernel.ipkernel.IPythonKernel object at 0x000001EF45D73250>>, 'isinstance': <built-in function isinstance>, 'issubclass': <built-in function issubclass>, 'iter': <built-in function iter>, 'aiter': <built-in function aiter>, 'len': <built-in function len>, 'locals': <built-in function locals>, 'max': <built-in function max>, 'min': <built-in function min>, 'next': <built-in function next>, 'anext': <built-in function anext>, 'oct': <built-in function oct>, 'ord': <built-in function ord>, 'pow': <built-in function pow>, 'print': <built-in function print>, 'repr': <built-in function repr>, 'round': <built-in function round>, 'setattr': <built-in function setattr>, 'sorted': <built-in function sorted>, 'sum': <built-in function sum>, 'vars': <built-in function vars>, 'None': None, 'Ellipsis': Ellipsis, 'NotImplemented': NotImplemented, 'False': False, 'True': True, 'bool': <class 'bool'>, 'memoryview': <class 'memoryview'>, 'bytearray': <class 'bytearray'>, 'bytes': <class 'bytes'>, 'classmethod': <class 'classmethod'>, 'complex': <class 'complex'>, 'dict': <class 'dict'>, 'enumerate': <class 'enumerate'>, 'filter': <class 'filter'>, 'float': <class 'float'>, 'frozenset': <class 'frozenset'>, 'property': <class 'property'>, 'int': <class 'int'>, 'list': <class 'list'>, 'map': <class 'map'>, 'object': <class 'object'>, 'range': <class 'range'>, 'reversed': <class 'reversed'>, 'set': <class 'set'>, 'slice': <class 'slice'>, 'staticmethod': <class 'staticmethod'>, 'str': <class 'str'>, 'super': <class 'super'>, 'tuple': <class 'tuple'>, 'type': <class 'type'>, 'zip': <class 'zip'>, '__debug__': True, 'BaseException': <class 'BaseException'>, 'BaseExceptionGroup': <class 'BaseExceptionGroup'>, 'Exception': <class 'Exception'>, 'GeneratorExit': <class 'GeneratorExit'>, 'KeyboardInterrupt': <class 'KeyboardInterrupt'>, 'SystemExit': <class 'SystemExit'>, 'ArithmeticError': <class 'ArithmeticError'>, 'AssertionError': <class 'AssertionError'>, 'AttributeError': <class 'AttributeError'>, 'BufferError': <class 'BufferError'>, 'EOFError': <class 'EOFError'>, 'ImportError': <class 'ImportError'>, 'LookupError': <class 'LookupError'>, 'MemoryError': <class 'MemoryError'>, 'NameError': <class 'NameError'>, 'OSError': <class 'OSError'>, 'ReferenceError': <class 'ReferenceError'>, 'RuntimeError': <class 'RuntimeError'>, 'StopAsyncIteration': <class 'StopAsyncIteration'>, 'StopIteration': <class 'StopIteration'>, 'SyntaxError': <class 'SyntaxError'>, 'SystemError': <class 'SystemError'>, 'TypeError': <class 'TypeError'>, 'ValueError': <class 'ValueError'>, 'Warning': <class 'Warning'>, 'FloatingPointError': <class 'FloatingPointError'>, 'OverflowError': <class 'OverflowError'>, 'ZeroDivisionError': <class 'ZeroDivisionError'>, 'BytesWarning': <class 'BytesWarning'>, 'DeprecationWarning': <class 'DeprecationWarning'>, 'EncodingWarning': <class 'EncodingWarning'>, 'FutureWarning': <class 'FutureWarning'>, 'ImportWarning': <class 'ImportWarning'>, 'PendingDeprecationWarning': <class 'PendingDeprecationWarning'>, 'ResourceWarning': <class 'ResourceWarning'>, 'RuntimeWarning': <class 'RuntimeWarning'>, 'SyntaxWarning': <class 'SyntaxWarning'>, 'UnicodeWarning': <class 'UnicodeWarning'>, 'UserWarning': <class 'UserWarning'>, 'BlockingIOError': <class 'BlockingIOError'>, 'ChildProcessError': <class 'ChildProcessError'>, 'ConnectionError': <class 'ConnectionError'>, 'FileExistsError': <class 'FileExistsError'>, 'FileNotFoundError': <class 'FileNotFoundError'>, 'InterruptedError': <class 'InterruptedError'>, 'IsADirectoryError': <class 'IsADirectoryError'>, 'NotADirectoryError': <class 'NotADirectoryError'>, 'PermissionError': <class 'PermissionError'>, 'ProcessLookupError': <class 'ProcessLookupError'>, 'TimeoutError': <class 'TimeoutError'>, 'IndentationError': <class 'IndentationError'>, 'IndexError': <class 'IndexError'>, 'KeyError': <class 'KeyError'>, 'ModuleNotFoundError': <class 'ModuleNotFoundError'>, 'NotImplementedError': <class 'NotImplementedError'>, 'RecursionError': <class 'RecursionError'>, 'UnboundLocalError': <class 'UnboundLocalError'>, 'UnicodeError': <class 'UnicodeError'>, 'BrokenPipeError': <class 'BrokenPipeError'>, 'ConnectionAbortedError': <class 'ConnectionAbortedError'>, 'ConnectionRefusedError': <class 'ConnectionRefusedError'>, 'ConnectionResetError': <class 'ConnectionResetError'>, 'TabError': <class 'TabError'>, 'UnicodeDecodeError': <class 'UnicodeDecodeError'>, 'UnicodeEncodeError': <class 'UnicodeEncodeError'>, 'UnicodeTranslateError': <class 'UnicodeTranslateError'>, 'ExceptionGroup': <class 'ExceptionGroup'>, 'EnvironmentError': <class 'OSError'>, 'IOError': <class 'OSError'>, 'WindowsError': <class 'OSError'>, 'open': <built-in function open>, 'copyright': Copyright (c) 2001-2023 Python Software Foundation.\n",
      "All Rights Reserved.\n",
      "\n",
      "Copyright (c) 2000 BeOpen.com.\n",
      "All Rights Reserved.\n",
      "\n",
      "Copyright (c) 1995-2001 Corporation for National Research Initiatives.\n",
      "All Rights Reserved.\n",
      "\n",
      "Copyright (c) 1991-1995 Stichting Mathematisch Centrum, Amsterdam.\n",
      "All Rights Reserved., 'credits':     Thanks to CWI, CNRI, BeOpen.com, Zope Corporation and a cast of thousands\n",
      "    for supporting Python development.  See www.python.org for more information., 'license': Type license() to see the full license text, 'help': Type help() for interactive help, or help(object) for help about object., 'execfile': <function execfile at 0x000001EF4597E3E0>, 'runfile': <function runfile at 0x000001EF45A65BC0>, '__IPYTHON__': True, 'display': <function display at 0x000001EF43043E20>, 'get_ipython': <bound method InteractiveShell.get_ipython of <ipykernel.zmqshell.ZMQInteractiveShell object at 0x000001EF45DB05D0>>}, '__all__': ('date', 'datetime', 'time', 'timedelta', 'timezone', 'tzinfo', 'MINYEAR', 'MAXYEAR', 'UTC'), 'sys': <module 'sys' (built-in)>, 'MINYEAR': 1, 'MAXYEAR': 9999, 'timedelta': <class 'datetime.timedelta'>, 'date': <class 'datetime.date'>, 'tzinfo': <class 'datetime.tzinfo'>, 'time': <class 'datetime.time'>, 'datetime': <class 'datetime.datetime'>, 'timezone': <class 'datetime.timezone'>, 'UTC': datetime.timezone.utc, 'datetime_CAPI': <capsule object \"datetime.datetime_CAPI\" at 0x000001EF42A6E340>}\n",
      "\n",
      "\n",
      "\n",
      "\n",
      " Два виклики будуть однаковими? True\n"
     ]
    }
   ],
   "source": [
    "print(\"Пробуємо вбудовану функцію type. Значення \", type(a), \"буде теж саме що\", a.__class__)\n",
    "\n",
    "import datetime\n",
    "\n",
    "print(\"Можна застосовувати тільки до модулів, результат буде:\", \"\\n\"*4, vars(datetime))\n",
    "print(\"\\n\"*4,\"Два виклики будуть однаковими?\", vars(datetime) is datetime.__dict__)"
   ]
  },
  {
   "cell_type": "code",
   "execution_count": 12,
   "metadata": {},
   "outputs": [
    {
     "name": "stdout",
     "output_type": "stream",
     "text": [
      "Help on built-in function print in module builtins:\n",
      "\n",
      "print(*args, sep=' ', end='\\n', file=None, flush=False)\n",
      "    Prints the values to a stream, or to sys.stdout by default.\n",
      "    \n",
      "    sep\n",
      "      string inserted between values, default a space.\n",
      "    end\n",
      "      string appended after the last value, default a newline.\n",
      "    file\n",
      "      a file-like object (stream); defaults to the current sys.stdout.\n",
      "    flush\n",
      "      whether to forcibly flush the stream.\n",
      "\n",
      "Функція яка друкує 'q'\n"
     ]
    }
   ],
   "source": [
    "help(print)\n",
    "\n",
    "# Краше ніколи не перевизначати вбудованих функцій, називайте функції чимось подібним абе не так само\n",
    "def print_q():\n",
    "    print(\"Функція яка друкує 'q'\")\n",
    "\n",
    "# Це виклик \n",
    "print_q()"
   ]
  },
  {
   "cell_type": "markdown",
   "metadata": {},
   "source": [
    "- попросили ChatGPT написати та пояснити програму з використанням вбудованих функцій:\n",
    "\n",
    "Звісно, ось програма на Python, яка використовує деякі вбудовані функції для розрахунку середнього значення списку чисел та виведення результату разом з поясненнями кожного кроку:\n",
    "\n",
    "```python\n",
    "# Введення списку чисел вручну використовуючи функцію input() та map()\n",
    "рядок_чисел = input(\"Введіть числа через пробіл: \")\n",
    "список_чисел = list(map(float, рядок_чисел.split()))\n",
    "\n",
    "# Використання вбудованих функцій для обчислення середнього значення\n",
    "середнє_значення = sum(список_чисел) / len(список_чисел)\n",
    "\n",
    "# Виведення результату\n",
    "print(\"Середнє значення чисел: \", середнє_значення)\n",
    "```\n",
    "\n",
    "Пояснення коду:\n",
    "\n",
    "1. Користувачу пропонується ввести числа через пробіл за допомогою функції `input()`. Введений рядок чисел зберігається у змінній `рядок_чисел`.\n",
    "\n",
    "2. Ми використовуємо метод `split()` для розділення рядка на окремі числа, розділені пробілами, і функцію `map()`, щоб перетворити ці числа з рядкового типу на тип даних float. Результат зберігається у змінній `список_чисел`.\n",
    "\n",
    "3. Для обчислення середнього значення ми використовуємо вбудовану функцію `sum()`, яка додає всі елементи списку, і функцію `len()`, яка повертає кількість елементів у списку. Таким чином, ми ділимо суму чисел на їхню кількість, щоб знайти середнє значення.\n",
    "\n",
    "4. Результат середнього значення виводиться за допомогою функції `print()`.\n",
    "\n",
    "Ця програма демонструє використання вбудованих функцій Python для обробки введених даних та виконання обчислень, а також виведення результату."
   ]
  },
  {
   "cell_type": "code",
   "execution_count": 13,
   "metadata": {},
   "outputs": [
    {
     "name": "stdout",
     "output_type": "stream",
     "text": [
      "Введена послідовність: 1 2 3 <class 'str'>\n",
      "Значення після перетворення: [1.0, 2.0, 3.0] <class 'list'>\n",
      "Середнє значення чисел:  2.0\n"
     ]
    }
   ],
   "source": [
    "# Введення списку чисел вручну використовуючи функцію input() та map()\n",
    "рядок_чисел = \"1 2 3\"#input(\"Введіть числа через пробіл: \")\n",
    "print(\"Введена послідовність:\", рядок_чисел, type(рядок_чисел))\n",
    "список_чисел = list(map(float, рядок_чисел.split()))\n",
    "print(\"Значення після перетворення:\", список_чисел, type(список_чисел))\n",
    "\n",
    "# Використання вбудованих функцій для обчислення середнього значення\n",
    "середнє_значення = sum(список_чисел) / len(список_чисел)\n",
    "\n",
    "# Виведення результату\n",
    "print(\"Середнє значення чисел: \", середнє_значення)"
   ]
  },
  {
   "cell_type": "markdown",
   "metadata": {},
   "source": [
    "- розглядаємо різні методи виводу за допомогою вбудованої функції `print`"
   ]
  },
  {
   "cell_type": "markdown",
   "metadata": {},
   "source": [
    "1. Найпростіше, передаємо всі аргументи для виводу у функцію print просто через кому\n",
    "> можна також передавати змінні\n",
    "\n",
    "> можна робити форматування стрічок у змінній до того як ми виведемо її"
   ]
  },
  {
   "cell_type": "code",
   "execution_count": 14,
   "metadata": {},
   "outputs": [
    {
     "name": "stdout",
     "output_type": "stream",
     "text": [
      "Це буде спочатку 12 Це після числа Це кінець\n",
      "ПочатокСерединкаКінець Значення з змінної b\n"
     ]
    }
   ],
   "source": [
    "print(\"Це буде спочатку\", 12, \"Це після числа\", \"Це кінець\")\n",
    "a = \"Початок\" + \"Серединка\" + \"Кінець\"\n",
    "b = \"Значення з змінної b\"\n",
    "print(a, b)"
   ]
  },
  {
   "cell_type": "markdown",
   "metadata": {},
   "source": [
    "2. Ми можемо відформатувати стрічку перед тим як її виводити\n",
    "> форматування стрічок здійснюється методом класу `str` який називається `format`\n",
    "\n",
    "> аргументи з методу format будуть вставлятись один за одним, якщо не вказано чітко куди саме їх розмістити\n",
    "\n",
    "> можемо вказувати номеровані позиції або відмічати їх 'позначками', при нометованих можна вставляти аргумент більше одного разу\n",
    "\n",
    "> 'позначками'/'мітки' ми будемо називати іменні значення куди вставляти аргументи функції `format`"
   ]
  },
  {
   "cell_type": "code",
   "execution_count": 15,
   "metadata": {},
   "outputs": [
    {
     "name": "stdout",
     "output_type": "stream",
     "text": [
      "Це буде форматована стрічка. Аргументи вставляються послідовно, один за одним.\n",
      "Почнемо вставляти з кінця Позиція 2, Після всталяємо з початку: Це буде на позиції 0, Вставляємо те що залишолось Це позиція 1\n",
      "Богдан вчиться програмувати. Богдан скоро стане програмістом. Це буде причеплено вкінці.\n",
      "Богдан любить програмувати. Богдан розкриває змінну Це значення змінної a (не плутати позначку зі змінною!)\n"
     ]
    }
   ],
   "source": [
    "sf = \"Це буде {} стрічка. Аргументи вставляються {}, один за {}.\".format(\"форматована\", \"послідовно\", \"одним\")\n",
    "print(sf)\n",
    "\n",
    "sp = \"Почнемо вставляти з кінця {2}, Після всталяємо з початку: {0}, Вставляємо те що залишолось {1}\".format(\"Це буде на позиції 0\",\n",
    "                                                                                                            \"Це позиція 1\",\n",
    "                                                                                                            \"Позиція 2\")\n",
    "print(sp)\n",
    "\n",
    "# робимо багато вставок одного і того ж аргумента\n",
    "sm = \"{0} вчиться програмувати. {0} скоро стане програмістом.\".format(\"Богдан\") + \" Це буде {} вкінці.\".format(\"причеплено\")\n",
    "print(sm)\n",
    "\n",
    "a = \"Це значення змінної a\"\n",
    "print(\"{name} любить {hobbi}. {name} розкриває змінну {b} (не плутати позначку зі змінною!)\".format(name=\"Богдан\", hobbi=\"програмувати\", b=a))"
   ]
  },
  {
   "cell_type": "markdown",
   "metadata": {},
   "source": [
    "3. використання `f-стрічок`\n",
    "> на початку стрічки вставляємо символ `f` дя того щоб можти форматувати стрічку\n",
    "\n",
    "> можна обєднувати декілька форматованих стрічок за допомогою конкатенації або множення\n",
    "\n",
    "> `f-стрічи` найчастіше використовуються при форматування довгого та складного тексту"
   ]
  },
  {
   "cell_type": "code",
   "execution_count": 16,
   "metadata": {},
   "outputs": [
    {
     "name": "stdout",
     "output_type": "stream",
     "text": [
      "Можемо вставляти змінні безпосередньо в текст, змінна a = Це значення змінної a\n",
      "Це початок: \n",
      "\tДалі буде виведено відділювач ~|=|~ 3 разів:\n",
      "\t~|=|~\n",
      "\t~|=|~\n",
      "\t~|=|~\n",
      "\n"
     ]
    }
   ],
   "source": [
    "sf = f\"Можемо вставляти змінні безпосередньо в текст, змінна a = {a}\"\n",
    "print(sf)\n",
    "\n",
    "# За допомогою f-стрічок роблять складні стрічки\n",
    "g = \"~|=|~\"\n",
    "f = 3\n",
    "print(\"Це початок: \" + f\"\\n\\tДалі буде виведено відділювач {g} {f} разів:\\n\" + f\"\\t{g}\\n\"*f)"
   ]
  },
  {
   "cell_type": "markdown",
   "metadata": {},
   "source": [
    "- знайомство з циклами\n",
    "> `while` - умовний цикл, виконується невизначену кількість раз поки умова є істиною;\n",
    "\n",
    "> `for` - ітераційний, він виконується задану кількість разів"
   ]
  },
  {
   "cell_type": "code",
   "execution_count": 17,
   "metadata": {},
   "outputs": [
    {
     "name": "stdout",
     "output_type": "stream",
     "text": [
      "Нам випало число на кубику: 5\n",
      "Нам випало число на кубику: 6\n",
      "Для того щоб випала 6 будо здійснено  2 кидків.\n"
     ]
    }
   ],
   "source": [
    "from random import randint\n",
    "# програма емулює кидання кубика, буде працювати доки не випаде значення 6\n",
    "i = int()\n",
    "r = int()\n",
    "while r != 6:\n",
    "    r = randint(1, 6)\n",
    "    print(\"Нам випало число на кубику:\", r)\n",
    "    i += 1\n",
    "print(\"Для того щоб випала 6 будо здійснено \", i, \"кидків.\")"
   ]
  },
  {
   "cell_type": "code",
   "execution_count": 18,
   "metadata": {},
   "outputs": [
    {
     "name": "stdout",
     "output_type": "stream",
     "text": [
      ">>>\t Богдан любить програмування \t<<<\n",
      ">>>\t Сергій любить плавання \t<<<\n",
      ">>>\t Микола любить ігри \t<<<\n",
      ">>>\t Тарас любить ігри \t<<<\n",
      "========== While Цикл закінчився. ==========\n",
      ">>>\t Богдан любить футбол \t<<<\n",
      ">>>\t Сергій любить хайкінг \t<<<\n",
      ">>>\t Микола любить аніме \t<<<\n",
      ">>>\t Тарас любить футбол \t<<<\n",
      "========== For Цикл закінчився. ==========\n",
      ">>>\t Богдан любить футбол \t<<<\n",
      ">>>\t Сергій любить аніме \t<<<\n",
      ">>>\t Микола любить ігри \t<<<\n",
      ">>>\t Тарас любить аніме \t<<<\n",
      "========== For Цикл закінчився. ==========\n"
     ]
    }
   ],
   "source": [
    "name = [\"Богдан\", \"Сергій\", \"Микола\", \"Тарас\"]\n",
    "hobbi = [\"програмування\", \"футбол\", \"аніме\", \"ігри\", \"хайкінг\", \"плавання\"]\n",
    "\n",
    "# while тут не дуже підходить але давайте спробуємо\n",
    "j = 0 # якщо це значення не змінювати то цикл буде безкінечний\n",
    "while j < len(name):\n",
    "    print(\">>>\\t {name} любить {hobbi} \\t<<<\".format(name=name[j], hobbi=hobbi[randint(0, len(hobbi)-1)]))\n",
    "    j+=1\n",
    "print(\"=\"*10, \"While Цикл закінчився.\", \"=\"*10)\n",
    "\n",
    "# спробуємо переписати даний цикл на for\n",
    "for j in range(len(name)):\n",
    "    # для виводу нічого змінювати не потрібно, бо ми йдемо по списку\n",
    "    print(\">>>\\t {name} любить {hobbi} \\t<<<\".format(name=name[j], hobbi=hobbi[randint(0, len(hobbi)-1)]))\n",
    "print(\"=\"*10, \"For Цикл закінчився.\", \"=\"*10)\n",
    "\n",
    "# використаємо всі можливості цикла for і спростимо вивід у print\n",
    "for j in name:\n",
    "    print(f\">>>\\t {j} любить {hobbi[randint(0, len(hobbi)-1)]} \\t<<<\")\n",
    "print(\"=\"*10, \"For Цикл закінчився.\", \"=\"*10)"
   ]
  },
  {
   "cell_type": "markdown",
   "metadata": {},
   "source": [
    "> спробуємо написати програму кидання кубика та спробувати застосувати обидва цикли"
   ]
  },
  {
   "cell_type": "code",
   "execution_count": 19,
   "metadata": {},
   "outputs": [
    {
     "name": "stdout",
     "output_type": "stream",
     "text": [
      "Нам випало число на кубику: 1. Порівнюємо з тим що ми хотіли щоб випало: False\n",
      "Залишилось 4 спроб.\n",
      "Нам випало число на кубику: 3. Порівнюємо з тим що ми хотіли щоб випало: True\n",
      "Залишилось 3 спроб.\n"
     ]
    }
   ],
   "source": [
    "attempts = 5 # кількітсь спроб на кидання кубика\n",
    "\n",
    "desired_number = 3\n",
    "dice_number = int()\n",
    "\n",
    "while dice_number != desired_number and attempts > 0:\n",
    "    dice_number = randint(1, 6) # кинули кубик\n",
    "    print(f\"Нам випало число на кубику: {dice_number}. Порівнюємо з тим що ми хотіли щоб випало: {dice_number == desired_number}\")\n",
    "    attempts -= 1 # кількістсь спроб зменшилась\n",
    "    print(f\"Залишилось {attempts} спроб.\")"
   ]
  },
  {
   "cell_type": "markdown",
   "metadata": {},
   "source": [
    "> спробуємо написати умовний цикл кидання кубика але через for"
   ]
  },
  {
   "cell_type": "code",
   "execution_count": 20,
   "metadata": {},
   "outputs": [
    {
     "name": "stdout",
     "output_type": "stream",
     "text": [
      "Нам випало число на кубику: 1. \n",
      ">>>Порівнюємо з тим що ми хотіли щоб випало: False\n",
      "Невдача, спроба № 0\n",
      "Нам випало число на кубику: 3. \n",
      ">>>Порівнюємо з тим що ми хотіли щоб випало: True\n",
      "!!! Ви виграли квартиру, випало загадане значення на кубику: 3 !!!\n"
     ]
    }
   ],
   "source": [
    "attempts = 3 # кількітсь спроб на кидання кубика\n",
    "\n",
    "desired_number = 3\n",
    "dice_number = int()\n",
    "\n",
    "# деколи в циклах використовується змінна під назвою _ (нижнє підкреслення) якщо ми не хочемо її часто використовувати \n",
    "for _ in range(attempts):\n",
    "    dice_number = randint(1, 6) # кинули кубик\n",
    "    print(f\"Нам випало число на кубику: {dice_number}. \\n>>>Порівнюємо з тим що ми хотіли щоб випало: {dice_number == desired_number}\")\n",
    "    if dice_number == desired_number:\n",
    "        print(f\"!!! Ви виграли квартиру, випало загадане значення на кубику: {dice_number} !!!\")\n",
    "        break\n",
    "    else:\n",
    "        print(\"Невдача, спроба №\", _)\n",
    "else:\n",
    "    print(\"Всі спроби були невдалими!\")"
   ]
  },
  {
   "cell_type": "markdown",
   "metadata": {},
   "source": [
    "- досліджуємо конструкції 'управління/переривання' циклів (`break` i `continue`)"
   ]
  },
  {
   "cell_type": "code",
   "execution_count": 21,
   "metadata": {},
   "outputs": [
    {
     "name": "stdout",
     "output_type": "stream",
     "text": [
      ">>> Починаємо цикл, ітераці №1 <<<\n",
      "Це виведеться якщо ми не викличемо continue.\n",
      ">>> Починаємо цикл, ітераці №2 <<<\n",
      "Це виведеться якщо ми не викличемо continue.\n",
      ">>> Починаємо цикл, ітераці №3 <<<\n",
      "На ітерації 3 ми викликали continue.\n",
      ">>> Починаємо цикл, ітераці №4 <<<\n",
      "На ітерації 4 ми викликали continue.\n",
      ">>> Починаємо цикл, ітераці №5 <<<\n",
      "На ітерації 5 ми викликали continue.\n",
      ">>> Починаємо цикл, ітераці №6 <<<\n",
      "Перериваємо цикл за допомогою break та завершуємо його бо досягнуто значення 6.\n",
      "Отримане значення i=1\n"
     ]
    }
   ],
   "source": [
    "j = int()\n",
    "i = int()\n",
    "\n",
    "while True:\n",
    "    j+=1\n",
    "    print(f\">>> Починаємо цикл, ітераці №{j} <<<\")\n",
    "    if j == 6:\n",
    "        print(f\"Перериваємо цикл за допомогою break та завершуємо його бо досягнуто значення {j}.\")\n",
    "        break\n",
    "    if j > 2:\n",
    "        print(f\"На ітерації {j} ми викликали continue.\")\n",
    "        i+=1\n",
    "        continue\n",
    "    print(\"Це виведеться якщо ми не викличемо continue.\")\n",
    "    i-=1\n",
    "    if j > 4:\n",
    "        print(\"Це ніколи не виведенься!\")\n",
    "print(f\"Отримане значення i={i}\")"
   ]
  },
  {
   "cell_type": "markdown",
   "metadata": {},
   "source": [
    "- пробуємо One-liner (однострічкові вирази)"
   ]
  },
  {
   "cell_type": "code",
   "execution_count": 22,
   "metadata": {},
   "outputs": [
    {
     "name": "stdout",
     "output_type": "stream",
     "text": [
      "Імя Богдан знаходиться під індексом 0\n",
      "Імя Богдан знаходиться під індексом 0\n",
      "Імя Богдан знаходиться під індексом 0\n"
     ]
    }
   ],
   "source": [
    "n = \"Богдан\" #\"Володимир\"\n",
    "# канонічний вогляд виклику If буде наступним\n",
    "if n in name:\n",
    "    print(f\"Імя {n} знаходиться під індексом {name.index(n)}\")\n",
    "else:\n",
    "    print(f\"Імені {n} немає у списку!\")\n",
    "\n",
    "# щоб не викликати print двічі можна було просто зробити через змінну\n",
    "if n in name:\n",
    "    p = f\"Імя {n} знаходиться під індексом {name.index(n)}\"\n",
    "else:\n",
    "    p = f\"Імені {n} немає у списку!\"\n",
    "print(p)\n",
    "\n",
    "# перепишемо виклик if за допомогою one-liner\n",
    "print(f\"Імя {n} знаходиться під індексом {name.index(n)}\" if n in name else f\"Імені {n} немає у списку!\")"
   ]
  },
  {
   "cell_type": "code",
   "execution_count": 23,
   "metadata": {},
   "outputs": [
    {
     "name": "stdout",
     "output_type": "stream",
     "text": [
      "Початкове значення списку: []\n",
      "1 Елемент не ділиться на 2.\n",
      "3 Елемент не ділиться на 2.\n",
      "5 Елемент не ділиться на 2.\n",
      "7 Елемент не ділиться на 2.\n",
      "Після завершення циклу i_1 буде: ['Це була ітерація 0', 'Це була ітерація 2', 'Це була ітерація 4', 'Це була ітерація 6']\n",
      "Після завершення циклу i_2 буде: ['Це була ітерація 1', 'Це була ітерація 3', 'Це була ітерація 5', 'Це була ітерація 7']\n"
     ]
    }
   ],
   "source": [
    "tries = range(8)\n",
    "# канонічна форма запису циклу\n",
    "i_1 = list()\n",
    "print(f\"Початкове значення списку: {i_1}\")\n",
    "\n",
    "for i in tries:\n",
    "    if i % 2:\n",
    "        print(f\"{i} Елемент не ділиться на 2.\")\n",
    "        continue\n",
    "    i_1.append(f\"Це була ітерація {i}\")\n",
    "\n",
    "print(f\"Після завершення циклу i_1 буде: {i_1}\")\n",
    "\n",
    "# перепишемо за допомгою one-lner\n",
    "i_2 = list([f\"Це була ітерація {i}\" for i in tries if i % 2])\n",
    "print(f\"Після завершення циклу i_2 буде: {i_2}\")\n"
   ]
  },
  {
   "cell_type": "markdown",
   "metadata": {},
   "source": [
    "- виловлюємо винятки з помилками\n",
    "> це не стосується синтаксичних помилок, вони зразу підсвітлюються\n",
    "\n",
    "> помилки можуть бути різними, наприклад ділення на нуль, неправильні типи даних в операціях, невірна ініціалізація\n",
    "\n",
    "> ми можемо передбачати в яких кодових конструкціях буде помилка та пробувати її уникнути (вирішити)"
   ]
  },
  {
   "cell_type": "code",
   "execution_count": 24,
   "metadata": {},
   "outputs": [
    {
     "name": "stdout",
     "output_type": "stream",
     "text": [
      "Ми не ініціалузували змінно аа\n",
      "Згенеровано 10 випадкових чисел від 0 до 5, їх вигляд: [5, 5, 4, 0, 0, 4, 0, 0, 2, 0]\n",
      "Ми змогли поділити число 5 на 5 = 1.0\n",
      "Результат ділення після корекції буде 5 = 1.0\n",
      "Ми змогли поділити число 5 на 5 = 1.0\n",
      "Результат ділення після корекції буде 5 = 1.0\n",
      "Ми змогли поділити число 5 на 4 = 1.25\n",
      "Результат ділення після корекції буде 4 = 1.25\n",
      "Ми не можемо ділити на 0, тому просто дадимо 1.\n",
      "Результат ділення після корекції буде 1 = 5.0\n",
      "Ми не можемо ділити на 0, тому просто дадимо 1.\n",
      "Результат ділення після корекції буде 1 = 5.0\n",
      "Ми змогли поділити число 5 на 4 = 1.25\n",
      "Результат ділення після корекції буде 4 = 1.25\n",
      "Ми не можемо ділити на 0, тому просто дадимо 1.\n",
      "Результат ділення після корекції буде 1 = 5.0\n",
      "Ми не можемо ділити на 0, тому просто дадимо 1.\n",
      "Результат ділення після корекції буде 1 = 5.0\n",
      "Ми змогли поділити число 5 на 2 = 2.5\n",
      "Результат ділення після корекції буде 2 = 2.5\n",
      "Ми не можемо ділити на 0, тому просто дадимо 1.\n",
      "Результат ділення після корекції буде 1 = 5.0\n"
     ]
    }
   ],
   "source": [
    "# ми не визначили змінну яку хочемо надрукувати, в нас буде NameError\n",
    "\n",
    "#print(aa) # тут буде помилка, бо змінна немає такої змінної\n",
    "\n",
    "try:\n",
    "    print(aa)\n",
    "except NameError:\n",
    "    # тут ми можемо опрацювати помилку та написати код що робити якщо помилка виникла\n",
    "    print(\"Ми не ініціалузували змінно аа\")\n",
    "\n",
    "nn = [randint(0, 5) for i in range(10)]\n",
    "print(f\"Згенеровано 10 випадкових чисел від 0 до 5, їх вигляд: {nn}\")\n",
    "\n",
    "for n in nn:\n",
    "    try:\n",
    "        print(f\"Ми змогли поділити число 5 на {n} = {5/n}\")\n",
    "    except ZeroDivisionError:\n",
    "        print(f\"Ми не можемо ділити на {n}, тому просто дадимо 1.\")\n",
    "        n += 1\n",
    "    finally:\n",
    "       print(f\"Результат ділення після корекції буде {n} = {5/n}\") \n"
   ]
  },
  {
   "cell_type": "markdown",
   "metadata": {},
   "source": [
    "- робота з контекст менеджерами\n",
    "> працюємо напяму з файлами та порівняємо з роботою через контекст-менеджера"
   ]
  },
  {
   "cell_type": "code",
   "execution_count": 37,
   "metadata": {},
   "outputs": [],
   "source": [
    "f = open(\"1.txt\", \"r+\",encoding=\"UTF-8\")\n",
    "f.write(\"Записуємо Новий текст у цей текстовий файл.\")\n",
    "f.close()"
   ]
  },
  {
   "cell_type": "code",
   "execution_count": 33,
   "metadata": {},
   "outputs": [
    {
     "name": "stdout",
     "output_type": "stream",
     "text": [
      "Записуємо цей текст у файл.\n",
      "Це було дописано вручну.\n"
     ]
    }
   ],
   "source": [
    "r = open(\"1.txt\", \"r+\",encoding=\"UTF-8\")\n",
    "print(r.read())\n",
    "r.close()"
   ]
  },
  {
   "cell_type": "code",
   "execution_count": 42,
   "metadata": {},
   "outputs": [],
   "source": [
    "with open(\"1.txt\", \"a+\",encoding=\"UTF-8\") as a:\n",
    "    # все що буде в тілі контекст менеджера, може працювати з файлом\n",
    "    for _ in range(10):\n",
    "        a.write(\"\\nЦе запишеться за допомогою контекст менеджера.\")\n",
    "\n",
    "# Це вже за межами конструкції контекст-менеджера і з файлом працювати не можна, буде помилка!\n",
    "#a.read()"
   ]
  },
  {
   "cell_type": "markdown",
   "metadata": {},
   "source": [
    "- робота з функціями та Лямбдами\n",
    "> запитали в ChatGPT пояснення функції:\n",
    "\n",
    "У мові програмування \"функція\" - це блок коду, який виконує певну задачу або виконує певні дії. Функції є однією з основних будівельних блоків програм та дозволяють вам організовувати код у великих програмах на більш менш логічні та повторно використовувані частини.\n",
    "\n",
    "Основні аспекти функцій:\n",
    "\n",
    "1. **Назва**: Функція має унікальне ім'я, за допомогою якого до неї можна звертатися.\n",
    "\n",
    "2. **Параметри (аргументи)**: Функція може приймати вхідні дані, які називаються параметрами або аргументами. Ці параметри використовуються всередині функції для виконання певних операцій.\n",
    "\n",
    "3. **Код**: Функція містить набір інструкцій та операцій, які виконуються при виклику функції. Цей код реалізує конкретний функціонал.\n",
    "\n",
    "4. **Повернення значення**: Функція може повертати значення, як результат її виконання. Це значення може бути використане в інших частинах програми.\n",
    "\n",
    "5. **Виклик функції**: Для виконання функції необхідно її викликати з іншої частини програми, передаючи необхідні аргументи, якщо це потрібно.\n",
    "\n",
    "6. **Повторне використання**: Функції дозволяють вам згрупувати код і використовувати його в інших частинах програми або навіть в інших програмах, забезпечуючи повторне використання коду.\n",
    "\n",
    "Функції спрощують розробку програм, оскільки дозволяють поділити велику задачу на менші, керовані та більш зрозумілі частини. Вони також полегшують зміну та підтримку коду, оскільки зміни в функціях можуть впливати тільки на їхню внутрішню роботу, не впливаючи на іншу частину програми."
   ]
  },
  {
   "cell_type": "code",
   "execution_count": 60,
   "metadata": {},
   "outputs": [],
   "source": [
    "def my_awesome_function(a: str):\n",
    "    try:\n",
    "        a.split(\" \") # це просто зроблено щоб перевірити чи переданий обєкт буде стрічкового типу\n",
    "    except AttributeError:\n",
    "        print(\"Помилка! Потрібно передати значення стрічкового типу.\")\n",
    "        return\n",
    "    print(\"Ми викликали мою Функцію!\")\n",
    "    print(f\"Переданий аргумент є: {a} який має тип {type(a)}\")\n",
    "    return isinstance(a, str)"
   ]
  },
  {
   "cell_type": "code",
   "execution_count": 65,
   "metadata": {},
   "outputs": [
    {
     "name": "stdout",
     "output_type": "stream",
     "text": [
      "Ми викликали мою Функцію!\n",
      "Переданий аргумент є: 1 який має тип <class 'str'>\n",
      "Помилка! Потрібно передати значення стрічкового типу.\n"
     ]
    },
    {
     "data": {
      "text/plain": [
       "<function __main__.my_awesome_function(a: str)>"
      ]
     },
     "execution_count": 65,
     "metadata": {},
     "output_type": "execute_result"
    }
   ],
   "source": [
    "my_awesome_function(\"1\")\n",
    "\n",
    "f = my_awesome_function\n",
    "f(1)\n",
    "\n",
    "my_awesome_function"
   ]
  },
  {
   "cell_type": "code",
   "execution_count": 68,
   "metadata": {},
   "outputs": [
    {
     "name": "stdout",
     "output_type": "stream",
     "text": [
      "Ми викликали мою Лямбду!\n",
      "Переданий аргумент є: 1 який має тип <class 'int'>\n",
      "['№0: Значення', '№1: Значення', '№2: Значення', '№3: Значення']\n",
      "['№0: Значення', '№1: Значення', '№2: Значення', '№3: Значення']\n"
     ]
    }
   ],
   "source": [
    "lb = lambda a: print(f\"Ми викликали мою Лямбду!\\nПереданий аргумент є: {a} який має тип {type(a)}\")\n",
    "\n",
    "lb(1)\n",
    "\n",
    "def my_fun_list(n):\n",
    "    return [f\"№{i}: Значення\" for i in range(n)]\n",
    "\n",
    "lm = lambda n: [f\"№{i}: Значення\" for i in range(n)]\n",
    "\n",
    "print(lm(4))\n",
    "print(my_fun_list(4))"
   ]
  }
 ],
 "metadata": {
  "kernelspec": {
   "display_name": "Python 3",
   "language": "python",
   "name": "python3"
  },
  "language_info": {
   "codemirror_mode": {
    "name": "ipython",
    "version": 3
   },
   "file_extension": ".py",
   "mimetype": "text/x-python",
   "name": "python",
   "nbconvert_exporter": "python",
   "pygments_lexer": "ipython3",
   "version": "3.11.5"
  },
  "orig_nbformat": 4
 },
 "nbformat": 4,
 "nbformat_minor": 2
}
