{
 "cells": [
  {
   "cell_type": "markdown",
   "metadata": {},
   "source": [
    "## Вступ до ООП\n",
    "### Перехід від традиційного програмування до ООП"
   ]
  },
  {
   "cell_type": "code",
   "execution_count": 1,
   "metadata": {},
   "outputs": [
    {
     "name": "stdout",
     "output_type": "stream",
     "text": [
      "Богдан має домашнього улюблення: Собака\n",
      "Сергій має домашнього улюблення: Рибки\n",
      "Микола має домашнього улюблення: Хомяк\n",
      "Богдан має домашнього улюблення: ['Собака', 'Рибки']\n",
      "Сергій має домашнього улюблення: Кіт\n",
      "Микола має домашнього улюблення: ['Собака', 'Кіт', 'Хомяк']\n",
      "Дмитро негайно заведи домашнього улюбленця!\n"
     ]
    }
   ],
   "source": [
    "# Це вбудований клас який описує абстрацію чисел (компютер не розуміє що таке числа поки ми йому не пояснемо це за допомогою класу)\n",
    "a = int(1)\n",
    "\n",
    "# Якщо ми хочемо описати певний набір даних і використовувати їх в сукупності\n",
    "# Спроба це зробити через вбудовані класи та типи даних\n",
    "name = [\"Богдан\", \"Сергій\", \"Микола\"]\n",
    "pets = [\"Собака\", \"Рибки\", \"Хомяк\", \"Кіт\", \"Папуга\"]\n",
    "\n",
    "for i in range(len(name)):\n",
    "    print(f\"{name[i]} має домашнього улюблення: {pets[i]}\")\n",
    "# якщо немає прямої відповідності ми не можемо згрупувати дані\n",
    "# Використаємо інші вбудовані типи даних, словники\n",
    "pet_club = {\"Богдан\": [\"Собака\", \"Рибки\"], \"Сергій\": \"Кіт\", \"Микола\": [\"Собака\", \"Кіт\", \"Хомяк\"], \"Дмитро\": None}\n",
    "\n",
    "for name in pet_club.keys():\n",
    "    if pet_club[name]:\n",
    "        print(f\"{name} має домашнього улюблення: {pet_club[name]}\")\n",
    "    else:\n",
    "        print(f\"{name} негайно заведи домашнього улюбленця!\")"
   ]
  },
  {
   "cell_type": "code",
   "execution_count": 2,
   "metadata": {},
   "outputs": [],
   "source": [
    "# Якщо стає важко описати якесь явище/абстарцію готовимим конструкціями, ми робимо це самостійно використовуючи класи\n",
    "class MyPetClab:\n",
    "    pass\n",
    "\n",
    "b = MyPetClab()\n",
    "b.name = \"Богдан\"\n",
    "b.surname = \"Б\"\n",
    "b.age = 35\n",
    "b.pets = [\"Собака\", \"Рибки\"]\n",
    "b.pets_dog = \"Шарік\"\n",
    "b.pets_fish = \"Неони\"\n",
    "\n",
    "s = MyPetClab()\n",
    "s.name = \"Сергій\"\n",
    "s.surname = \"Б\"\n",
    "s.age = 20\n",
    "s.pets = [\"Кіт\"]\n",
    "s.pets_dog = \"\"\n",
    "s.pets_fish = \"\"\n",
    "s.pets_cat = \"Мурзік\"\n",
    "\n",
    "# динамічні атрибути будуть лише у тих обктів де ми їх явн задали\n",
    "e = MyPetClab()\n",
    "e.name = \"Андрій\"\n",
    "# при динамічному заданні атрибутів можуть бути унікальні полі які не будуть співпадати з іншими обєктами!\n",
    "e.full_name = \"Андрій А\""
   ]
  },
  {
   "cell_type": "code",
   "execution_count": 3,
   "metadata": {},
   "outputs": [],
   "source": [
    "def print_my_pets_class(obj:list) -> None:\n",
    "    for bb in obj:\n",
    "        print(\"=\"*20)\n",
    "        try:\n",
    "            print(f\"{bb.name} {bb.surname} має домашнього улюблення: {bb.pets}\")\n",
    "            if \"Собака\" in bb.pets:\n",
    "                print(f\"{bb.name} має Собаку.\")\n",
    "            if bb.pets_dog:\n",
    "                print(f\"Собаку {bb.name} звати {bb.pets_dog}\")\n",
    "            elif bb.pets_cat:\n",
    "                print(f\"Кота {bb.name} звати {bb.pets_cat}\")\n",
    "            else:\n",
    "                print(f\"{bb.name} ще не дав їй кличку.\")\n",
    "        except AttributeError as e:\n",
    "            print(f\">>> Відсітні базові атрибути: {e}! <<<\")\n",
    "        \n",
    "        try:\n",
    "            print(f\"Повне імя учасника: {bb.full_name}\\nЙого вік: {bb.age}\")\n",
    "        except AttributeError as e:\n",
    "            print(f\">>> Динамічно заданий атрибут full_name відсутній у даному обєкті: {e}!<<<\")   "
   ]
  },
  {
   "cell_type": "code",
   "execution_count": 4,
   "metadata": {},
   "outputs": [
    {
     "name": "stdout",
     "output_type": "stream",
     "text": [
      "====================\n",
      "Богдан Б має домашнього улюблення: ['Собака', 'Рибки']\n",
      "Богдан має Собаку.\n",
      "Собаку Богдан звати Шарік\n",
      ">>> Динамічно заданий атрибут full_name відсутній у даному обєкті: 'MyPetClab' object has no attribute 'full_name'!<<<\n",
      "====================\n",
      "Сергій Б має домашнього улюблення: ['Кіт']\n",
      "Кота Сергій звати Мурзік\n",
      ">>> Динамічно заданий атрибут full_name відсутній у даному обєкті: 'MyPetClab' object has no attribute 'full_name'!<<<\n",
      "====================\n",
      ">>> Відсітні базові атрибути: 'MyPetClab' object has no attribute 'surname'! <<<\n",
      ">>> Динамічно заданий атрибут full_name відсутній у даному обєкті: 'MyPetClab' object has no attribute 'age'!<<<\n"
     ]
    }
   ],
   "source": [
    "print_my_pets_class([b, s, e])"
   ]
  },
  {
   "cell_type": "code",
   "execution_count": 5,
   "metadata": {},
   "outputs": [
    {
     "name": "stdout",
     "output_type": "stream",
     "text": [
      "====================\n",
      "Богдан Б має домашнього улюблення: Заведи собі улюбленця!\n",
      "Богдан ще не дав їй кличку.\n",
      "Повне імя учасника: Богдан Б\n",
      "Його вік: 35\n",
      "====================\n",
      "Сергій С має домашнього улюблення: ['Собака', 'Кіт']\n",
      "Сергій має Собаку.\n",
      "Собаку Сергій звати Шарік\n",
      "Повне імя учасника: Сергій С\n",
      "Його вік: None\n",
      "====================\n",
      "Андрій А має домашнього улюблення: ['Кіт']\n",
      "Кота Андрій звати Мурзік\n",
      "Повне імя учасника: Андрій А\n",
      "Його вік: None\n"
     ]
    }
   ],
   "source": [
    "# Якщо ми хочемо створити обєкт та зразу ініціалізувати його атрибути, ми використовуємо Конструктор (__init__)\n",
    "# В кожному конструкторі або меоді класу має бути змінна self - вказівник на обєкт\n",
    "# Ми винесли наш клас в окремий файл, а тут будемо тільки робоити його імпорт та працювати з ним\n",
    "from my_module import MyPetClabModule\n",
    "\n",
    "a = MyPetClabModule(\"Богдан\", \"Б\", 35)\n",
    "b = MyPetClabModule(\"Сергій\", \"С\", pets=[\"Собака\", \"Кіт\"], dog_name=\"Шарік\")\n",
    "c = MyPetClabModule(\"Андрій\", \"А\", pets=[\"Кіт\"], cat_name=\"Мурзік\")\n",
    "print_my_pets_class([a, b, c])"
   ]
  },
  {
   "cell_type": "code",
   "execution_count": 6,
   "metadata": {},
   "outputs": [
    {
     "name": "stdout",
     "output_type": "stream",
     "text": [
      "Богдан\n",
      "====================\n",
      "Володимир Б має домашнього улюблення: Заведи собі улюбленця!\n",
      "Володимир ще не дав їй кличку.\n",
      "Повне імя учасника: Богдан Б\n",
      "Його вік: 35\n",
      "Богдан Б\n",
      "====================\n",
      "Володимир Б має домашнього улюблення: Заведи собі улюбленця!\n",
      "Володимир ще не дав їй кличку.\n",
      "Повне імя учасника: Джеймс Бонд\n",
      "Його вік: 35\n",
      "Володимир Б\n"
     ]
    }
   ],
   "source": [
    "print(a.name)\n",
    "a.name = \"Володимир\"\n",
    "\n",
    "print_my_pets_class([a])\n",
    "\n",
    "print(a.full_name)\n",
    "\n",
    "a.full_name = \"Джеймс Бонд\"\n",
    "print_my_pets_class([a])\n",
    "\n",
    "print(a.full_name_property)"
   ]
  },
  {
   "cell_type": "markdown",
   "metadata": {},
   "source": [
    "- будемо тримати клас в окремій комірці та весь час його дописувати"
   ]
  },
  {
   "cell_type": "code",
   "execution_count": 42,
   "metadata": {},
   "outputs": [],
   "source": [
    "class MyPetClabMain:\n",
    "    # Не плутати таке присвоєння, ми через конструктор предаємо аргумент name який буде присвоєно атрибуту self.name \n",
    "    def __init__(self, name:str, surname:str, age:int=None, pets:set={}, dog_name:str=None, cat_name:str=None) -> None:\n",
    "        self.name = name\n",
    "        self.surname = surname\n",
    "        # Ми можемо навіть згуповувати передані аргументи для того щоб створити потрібний атрибут\n",
    "        self.full_name = f\"{name} {surname}\"\n",
    "        self.age = age\n",
    "        # ми зробили цю змінну через сет бо хочемо мати унікальну колекцію даних\n",
    "        self.pets = pets if len(pets)>0 else \"Заведи собі улюбленця!\"\n",
    "        self.pets_dog = dog_name if \"Собака\" in pets else None\n",
    "        self.pets_fish = \"Рибка\" if \"Рибка\" in pets else None\n",
    "        self.pets_cat = cat_name if \"Кіт\" in pets else None\n",
    "    \n",
    "    @property\n",
    "    def full_name_property(self):\n",
    "        return f\"{self.name} {self.surname}\"\n",
    "\n",
    "    @property\n",
    "    def pets_amount(self):\n",
    "        return len(self.pets) if not isinstance(self.pets, str) else None\n",
    "    \n",
    "    def add_new_pet(self, breed:str, name:str):\n",
    "        if not isinstance(self.pets, str):\n",
    "            self.pets.add(breed)\n",
    "        else:\n",
    "            self.pets = {breed}\n",
    "        \n",
    "        if breed == \"Кіт\":\n",
    "            self.pets_cat = name\n",
    "        elif breed == \"Собака\":\n",
    "            self.pets_dog = name\n",
    "        elif breed == \"Рибка\":\n",
    "            self.pets_fish = name\n",
    "    \n",
    "    def remove_pets(self, breed:str):\n",
    "        print(f\"Дуже шкода що вже немає нашого улюбленця {breed}!\")\n",
    "        if not isinstance(self.pets, str):\n",
    "            self.pets.remove(breed)\n",
    "        else:\n",
    "            print(f\"У тебе не було домашнього улюбленця {breed}! {self.pets}\")\n",
    "        \n"
   ]
  },
  {
   "cell_type": "code",
   "execution_count": 39,
   "metadata": {},
   "outputs": [],
   "source": [
    "aa = MyPetClabMain(\"Богдан\", \"Б\", 35)\n",
    "bb = MyPetClabMain(\"Сергій\", \"С\", pets={\"Собака\", \"Кіт\"}, dog_name=\"Шарік\")\n",
    "cc = MyPetClabMain(\"Андрій\", \"А\", pets={\"Кіт\"}, cat_name=\"Мурзік\")"
   ]
  },
  {
   "cell_type": "code",
   "execution_count": 11,
   "metadata": {},
   "outputs": [
    {
     "name": "stdout",
     "output_type": "stream",
     "text": [
      "1 Богдан Б\n",
      "2 Містeр Бін\n",
      "3 Богдан Б\n"
     ]
    }
   ],
   "source": [
    "a = MyPetClabMain(\"Богдан\", \"Б\", 35)\n",
    "print(\"1\",a.full_name)\n",
    "a.full_name = \"Містeр Бін\"\n",
    "print(\"2\", a.full_name)\n",
    "\n",
    "print(\"3\",a.full_name_property)\n",
    "\n",
    "# Міняти проперті не можна, бо буде помилка!\n",
    "#a.full_name_property = \"Містер пупур\""
   ]
  },
  {
   "cell_type": "code",
   "execution_count": 37,
   "metadata": {},
   "outputs": [
    {
     "name": "stdout",
     "output_type": "stream",
     "text": [
      "Спочатку кількість тваринок у Богдан було: None\n",
      "Після додавання тваринок, у Богдан стало: 1. Імя нової тваринки: None\n"
     ]
    }
   ],
   "source": [
    "print(f\"Спочатку кількість тваринок у {aa.name} було: {aa.pets_amount}\")\n",
    "\n",
    "aa.pets = {\"Рибка\"}\n",
    "\n",
    "print(f\"Після додавання тваринок, у {aa.name} стало: {aa.pets_amount}. Імя нової тваринки: {aa.pets_fish}\")"
   ]
  },
  {
   "cell_type": "code",
   "execution_count": 43,
   "metadata": {},
   "outputs": [
    {
     "name": "stdout",
     "output_type": "stream",
     "text": [
      "У нас є наступні тваринки: {'Кіт', 'Собака'}.\n",
      " Імя собаки: Шарік. \n",
      " Імя кота: Мурка.\n",
      " Імя рибки: None.\n",
      "У нас є наступні тваринки: {'Кіт', 'Собака'}.\n",
      " Імя собаки: Шарік. \n",
      " Імя кота: Мурка.\n",
      " Імя рибки: None.\n",
      "У нас є наступні тваринки: {'Рибка'}.\n",
      " Імя собаки: None. \n",
      " Імя кота: None.\n",
      " Імя рибки: Неони.\n",
      "Дуже шкода що вже немає нашого улюбленця Рибка!\n",
      "У нас є наступні тваринки: set().\n",
      " Імя собаки: None. \n",
      " Імя кота: None.\n",
      " Імя рибки: Неони.\n",
      "Дуже шкода що вже немає нашого улюбленця Рибка!\n",
      "У тебе не було домашнього улюбленця Рибка! Заведи собі улюбленця!\n"
     ]
    }
   ],
   "source": [
    "def print_info(obj:MyPetClabMain):\n",
    "    print(f\"У нас є наступні тваринки: {obj.pets}.\\n Імя собаки: {obj.pets_dog}. \\n Імя кота: {obj.pets_cat}.\\n Імя рибки: {obj.pets_fish}.\")\n",
    "\n",
    "print_info(bb)\n",
    "bb.add_new_pet(\"Кіт\", \"Мурка\")\n",
    "print_info(bb)\n",
    "\n",
    "aa.add_new_pet(\"Рибка\", \"Неони\")\n",
    "print_info(aa)\n",
    "aa.remove_pets(\"Рибка\")\n",
    "print_info(aa)\n",
    "\n",
    "dd = MyPetClabMain(\"Богдан\", \"Б\", 35)\n",
    "dd.remove_pets(\"Рибка\")"
   ]
  }
 ],
 "metadata": {
  "kernelspec": {
   "display_name": "Python 3",
   "language": "python",
   "name": "python3"
  },
  "language_info": {
   "codemirror_mode": {
    "name": "ipython",
    "version": 3
   },
   "file_extension": ".py",
   "mimetype": "text/x-python",
   "name": "python",
   "nbconvert_exporter": "python",
   "pygments_lexer": "ipython3",
   "version": "3.11.5"
  }
 },
 "nbformat": 4,
 "nbformat_minor": 2
}
