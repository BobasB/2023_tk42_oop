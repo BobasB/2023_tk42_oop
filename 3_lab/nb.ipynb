{
 "cells": [
  {
   "cell_type": "markdown",
   "metadata": {},
   "source": [
    "## Вступ до ООП\n",
    "### Перехід від традиційного програмування до ООП"
   ]
  },
  {
   "cell_type": "code",
   "execution_count": 6,
   "metadata": {},
   "outputs": [
    {
     "name": "stdout",
     "output_type": "stream",
     "text": [
      "Богдан має домашнього улюблення: Собака\n",
      "Сергій має домашнього улюблення: Рибки\n",
      "Микола має домашнього улюблення: Хомяк\n",
      "Богдан має домашнього улюблення: ['Собака', 'Рибки']\n",
      "Сергій має домашнього улюблення: Кіт\n",
      "Микола має домашнього улюблення: ['Собака', 'Кіт', 'Хомяк']\n",
      "Дмитро негайно заведи домашнього улюбленця!\n"
     ]
    }
   ],
   "source": [
    "# Це вбудований клас який описує абстрацію чисел (компютер не розуміє що таке числа поки ми йому не пояснемо це за допомогою класу)\n",
    "a = int(1)\n",
    "\n",
    "# Якщо ми хочемо описати певний набір даних і використовувати їх в сукупності\n",
    "# Спроба це зробити через вбудовані класи та типи даних\n",
    "name = [\"Богдан\", \"Сергій\", \"Микола\"]\n",
    "pets = [\"Собака\", \"Рибки\", \"Хомяк\", \"Кіт\", \"Папуга\"]\n",
    "\n",
    "for i in range(len(name)):\n",
    "    print(f\"{name[i]} має домашнього улюблення: {pets[i]}\")\n",
    "# якщо немає прямої відповідності ми не можемо згрупувати дані\n",
    "# Використаємо інші вбудовані типи даних, словники\n",
    "pet_club = {\"Богдан\": [\"Собака\", \"Рибки\"], \"Сергій\": \"Кіт\", \"Микола\": [\"Собака\", \"Кіт\", \"Хомяк\"], \"Дмитро\": None}\n",
    "\n",
    "for name in pet_club.keys():\n",
    "    if pet_club[name]:\n",
    "        print(f\"{name} має домашнього улюблення: {pet_club[name]}\")\n",
    "    else:\n",
    "        print(f\"{name} негайно заведи домашнього улюбленця!\")"
   ]
  },
  {
   "cell_type": "code",
   "execution_count": 14,
   "metadata": {},
   "outputs": [],
   "source": [
    "# Якщо стає важко описати якесь явище/абстарцію готовимим конструкціями, ми робимо це самостійно використовуючи класи\n",
    "class MyPetClab:\n",
    "    pass\n",
    "\n",
    "b = MyPetClab()\n",
    "b.name = \"Богдан\"\n",
    "b.surname = \"Б\"\n",
    "b.age = 35\n",
    "b.pets = [\"Собака\", \"Рибки\"]\n",
    "b.pets_dog = \"Шарік\"\n",
    "b.pets_fish = \"Неони\"\n",
    "\n",
    "s = MyPetClab()\n",
    "s.name = \"Сергій\"\n",
    "s.surname = \"Б\"\n",
    "s.age = 20\n",
    "s.pets = [\"Кіт\"]\n",
    "s.pets_dog = \"\"\n",
    "s.pets_fish = \"\"\n",
    "s.pets_cat = \"Мурзік\"\n",
    "\n",
    "# динамічні атрибути будуть лише у тих обктів де ми їх явн задали\n",
    "e = MyPetClab()\n",
    "e.name = \"Андрій\"\n",
    "# при динамічному заданні атрибутів можуть бути унікальні полі які не будуть співпадати з іншими обєктами!\n",
    "e.full_name = \"Андрій А\""
   ]
  },
  {
   "cell_type": "code",
   "execution_count": 25,
   "metadata": {},
   "outputs": [],
   "source": [
    "def print_my_pets_class(obj:list) -> None:\n",
    "    for bb in obj:\n",
    "        print(\"=\"*20)\n",
    "        try:\n",
    "            print(f\"{bb.name} {bb.surname} має домашнього улюблення: {bb.pets}\")\n",
    "            if \"Собака\" in bb.pets:\n",
    "                print(f\"{bb.name} має Собаку.\")\n",
    "            if bb.pets_dog:\n",
    "                print(f\"Собаку {bb.name} звати {bb.pets_dog}\")\n",
    "            elif bb.pets_cat:\n",
    "                print(f\"Кота {bb.name} звати {bb.pets_cat}\")\n",
    "            else:\n",
    "                print(f\"{bb.name} ще не дав їй кличку.\")\n",
    "        except AttributeError as e:\n",
    "            print(f\">>> Відсітні базові атрибути: {e}! <<<\")\n",
    "        \n",
    "        try:\n",
    "            print(f\"Повне імя учасника: {bb.full_name}\\nЙого вік: {bb.age}\")\n",
    "        except AttributeError as e:\n",
    "            print(f\">>> Динамічно заданий атрибут full_name відсутній у даному обєкті: {e}!<<<\")   "
   ]
  },
  {
   "cell_type": "code",
   "execution_count": 26,
   "metadata": {},
   "outputs": [
    {
     "name": "stdout",
     "output_type": "stream",
     "text": [
      "====================\n",
      "Сергій С має домашнього улюблення: ['Собака', 'Рибки']\n",
      "Сергій має Собаку.\n",
      "Собаку Сергій звати Шарік\n",
      "Повне імя учасника: Сергій С\n",
      "Його вік: None\n",
      "====================\n",
      "Сергій Б має домашнього улюблення: ['Кіт']\n",
      "Кота Сергій звати Мурзік\n",
      ">>> Динамічно заданий атрибут full_name відсутній у даному обєкті: 'MyPetClab' object has no attribute 'full_name'!<<<\n",
      "====================\n",
      ">>> Відсітні базові атрибути: 'MyPetClab' object has no attribute 'surname'! <<<\n",
      ">>> Динамічно заданий атрибут full_name відсутній у даному обєкті: 'MyPetClab' object has no attribute 'age'!<<<\n"
     ]
    }
   ],
   "source": [
    "print_my_pets_class([b, s, e])"
   ]
  },
  {
   "cell_type": "code",
   "execution_count": 36,
   "metadata": {},
   "outputs": [
    {
     "name": "stdout",
     "output_type": "stream",
     "text": [
      "====================\n",
      "Богдан Б має домашнього улюблення: Заведи собі улюбленця!\n",
      "Богдан ще не дав їй кличку.\n",
      "Повне імя учасника: Богдан Б\n",
      "Його вік: 35\n",
      "====================\n",
      "Сергій С має домашнього улюблення: ['Собака', 'Кіт']\n",
      "Сергій має Собаку.\n",
      "Собаку Сергій звати Шарік\n",
      "Повне імя учасника: Сергій С\n",
      "Його вік: None\n",
      "====================\n",
      "Андрій А має домашнього улюблення: ['Кіт']\n",
      "Кота Андрій звати Мурзік\n",
      "Повне імя учасника: Андрій А\n",
      "Його вік: None\n"
     ]
    }
   ],
   "source": [
    "# Якщо ми хочемо створити обєкт та зразу ініціалізувати його атрибути, ми використовуємо Конструктор (__init__)\n",
    "# В кожному конструкторі або меоді класу має бути змінна self - вказівник на обєкт\n",
    "class MyPetClab:\n",
    "    # Не плутати таке присвоєння, ми через конструктор предаємо аргумент name який буде присвоєно атрибуту self.name \n",
    "    def __init__(self, name:str, surname:str, age:int=None, pets:list=[], dog_name:str=None, cat_name:str=None) -> None:\n",
    "        self.name = name\n",
    "        self.surname = surname\n",
    "        # Ми можемо навіть згуповувати передані аргументи для того щоб створити потрібний атрибут\n",
    "        self.full_name = f\"{name} {surname}\"\n",
    "        self.age = age\n",
    "        self.pets = pets if len(pets)>0 else \"Заведи собі улюбленця!\"\n",
    "        self.pets_dog = dog_name if \"Собака\" in pets else None\n",
    "        self.pets_fish = \"Рибка\" if \"Рибка\" in pets else None\n",
    "        self.pets_cat = cat_name if \"Кіт\" in pets else None\n",
    "\n",
    "a = MyPetClab(\"Богдан\", \"Б\", 35)\n",
    "b = MyPetClab(\"Сергій\", \"С\", pets=[\"Собака\", \"Кіт\"], dog_name=\"Шарік\")\n",
    "c = MyPetClab(\"Андрій\", \"А\", pets=[\"Кіт\"], cat_name=\"Мурзік\")\n",
    "print_my_pets_class([a, b, c])"
   ]
  }
 ],
 "metadata": {
  "kernelspec": {
   "display_name": "Python 3",
   "language": "python",
   "name": "python3"
  },
  "language_info": {
   "codemirror_mode": {
    "name": "ipython",
    "version": 3
   },
   "file_extension": ".py",
   "mimetype": "text/x-python",
   "name": "python",
   "nbconvert_exporter": "python",
   "pygments_lexer": "ipython3",
   "version": "3.11.5"
  }
 },
 "nbformat": 4,
 "nbformat_minor": 2
}
