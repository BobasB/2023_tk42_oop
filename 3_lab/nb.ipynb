{
 "cells": [
  {
   "cell_type": "markdown",
   "metadata": {},
   "source": [
    "## Вступ до ООП\n",
    "### Перехід від традиційного програмування до ООП"
   ]
  },
  {
   "cell_type": "code",
   "execution_count": 32,
   "metadata": {},
   "outputs": [
    {
     "name": "stdout",
     "output_type": "stream",
     "text": [
      "Богдан має домашнього улюблення: Собака\n",
      "Сергій має домашнього улюблення: Рибки\n",
      "Микола має домашнього улюблення: Хомяк\n",
      "Богдан має домашнього улюблення: ['Собака', 'Рибки']\n",
      "Сергій має домашнього улюблення: Кіт\n",
      "Микола має домашнього улюблення: ['Собака', 'Кіт', 'Хомяк']\n",
      "Дмитро негайно заведи домашнього улюбленця!\n"
     ]
    }
   ],
   "source": [
    "# Це вбудований клас який описує абстрацію чисел (компютер не розуміє що таке числа поки ми йому не пояснемо це за допомогою класу)\n",
    "a = int(1)\n",
    "\n",
    "# Якщо ми хочемо описати певний набір даних і використовувати їх в сукупності\n",
    "# Спроба це зробити через вбудовані класи та типи даних\n",
    "name = [\"Богдан\", \"Сергій\", \"Микола\"]\n",
    "pets = [\"Собака\", \"Рибки\", \"Хомяк\", \"Кіт\", \"Папуга\"]\n",
    "\n",
    "for i in range(len(name)):\n",
    "    print(f\"{name[i]} має домашнього улюблення: {pets[i]}\")\n",
    "# якщо немає прямої відповідності ми не можемо згрупувати дані\n",
    "# Використаємо інші вбудовані типи даних, словники\n",
    "pet_club = {\"Богдан\": [\"Собака\", \"Рибки\"], \"Сергій\": \"Кіт\", \"Микола\": [\"Собака\", \"Кіт\", \"Хомяк\"], \"Дмитро\": None}\n",
    "\n",
    "for name in pet_club.keys():\n",
    "    if pet_club[name]:\n",
    "        print(f\"{name} має домашнього улюблення: {pet_club[name]}\")\n",
    "    else:\n",
    "        print(f\"{name} негайно заведи домашнього улюбленця!\")"
   ]
  },
  {
   "cell_type": "code",
   "execution_count": 33,
   "metadata": {},
   "outputs": [],
   "source": [
    "# Якщо стає важко описати якесь явище/абстарцію готовимим конструкціями, ми робимо це самостійно використовуючи класи\n",
    "class MyPetClab:\n",
    "    pass\n",
    "\n",
    "b = MyPetClab()\n",
    "b.name = \"Богдан\"\n",
    "b.surname = \"Б\"\n",
    "b.age = 35\n",
    "b.pets = [\"Собака\", \"Рибки\"]\n",
    "b.pets_dog = \"Шарік\"\n",
    "b.pets_fish = \"Неони\"\n",
    "\n",
    "s = MyPetClab()\n",
    "s.name = \"Сергій\"\n",
    "s.surname = \"Б\"\n",
    "s.age = 20\n",
    "s.pets = [\"Кіт\"]\n",
    "s.pets_dog = \"\"\n",
    "s.pets_fish = \"\"\n",
    "s.pets_cat = \"Мурзік\"\n",
    "\n",
    "# динамічні атрибути будуть лише у тих обктів де ми їх явн задали\n",
    "e = MyPetClab()\n",
    "e.name = \"Андрій\"\n",
    "# при динамічному заданні атрибутів можуть бути унікальні полі які не будуть співпадати з іншими обєктами!\n",
    "e.full_name = \"Андрій А\""
   ]
  },
  {
   "cell_type": "code",
   "execution_count": 34,
   "metadata": {},
   "outputs": [],
   "source": [
    "def print_my_pets_class(obj:list) -> None:\n",
    "    for bb in obj:\n",
    "        print(\"=\"*20)\n",
    "        try:\n",
    "            print(f\"{bb.name} {bb.surname} має домашнього улюблення: {bb.pets}\")\n",
    "            if \"Собака\" in bb.pets:\n",
    "                print(f\"{bb.name} має Собаку.\")\n",
    "            if bb.pets_dog:\n",
    "                print(f\"Собаку {bb.name} звати {bb.pets_dog}\")\n",
    "            elif bb.pets_cat:\n",
    "                print(f\"Кота {bb.name} звати {bb.pets_cat}\")\n",
    "            else:\n",
    "                print(f\"{bb.name} ще не дав їй кличку.\")\n",
    "        except AttributeError as e:\n",
    "            print(f\">>> Відсітні базові атрибути: {e}! <<<\")\n",
    "        \n",
    "        try:\n",
    "            print(f\"Повне імя учасника: {bb.full_name}\\nЙого вік: {bb.age}\")\n",
    "        except AttributeError as e:\n",
    "            print(f\">>> Динамічно заданий атрибут full_name відсутній у даному обєкті: {e}!<<<\")   "
   ]
  },
  {
   "cell_type": "code",
   "execution_count": 35,
   "metadata": {},
   "outputs": [
    {
     "name": "stdout",
     "output_type": "stream",
     "text": [
      "====================\n",
      "Богдан Б має домашнього улюблення: ['Собака', 'Рибки']\n",
      "Богдан має Собаку.\n",
      "Собаку Богдан звати Шарік\n",
      ">>> Динамічно заданий атрибут full_name відсутній у даному обєкті: 'MyPetClab' object has no attribute 'full_name'!<<<\n",
      "====================\n",
      "Сергій Б має домашнього улюблення: ['Кіт']\n",
      "Кота Сергій звати Мурзік\n",
      ">>> Динамічно заданий атрибут full_name відсутній у даному обєкті: 'MyPetClab' object has no attribute 'full_name'!<<<\n",
      "====================\n",
      ">>> Відсітні базові атрибути: 'MyPetClab' object has no attribute 'surname'! <<<\n",
      ">>> Динамічно заданий атрибут full_name відсутній у даному обєкті: 'MyPetClab' object has no attribute 'age'!<<<\n"
     ]
    }
   ],
   "source": [
    "print_my_pets_class([b, s, e])"
   ]
  },
  {
   "cell_type": "code",
   "execution_count": 36,
   "metadata": {},
   "outputs": [
    {
     "name": "stdout",
     "output_type": "stream",
     "text": [
      "====================\n",
      "Богдан Б має домашнього улюблення: Заведи собі улюбленця!\n",
      "Богдан ще не дав їй кличку.\n",
      "Повне імя учасника: Богдан Б\n",
      "Його вік: 35\n",
      "====================\n",
      "Сергій С має домашнього улюблення: ['Собака', 'Кіт']\n",
      "Сергій має Собаку.\n",
      "Собаку Сергій звати Шарік\n",
      "Повне імя учасника: Сергій С\n",
      "Його вік: None\n",
      "====================\n",
      "Андрій А має домашнього улюблення: ['Кіт']\n",
      "Кота Андрій звати Мурзік\n",
      "Повне імя учасника: Андрій А\n",
      "Його вік: None\n"
     ]
    }
   ],
   "source": [
    "# Якщо ми хочемо створити обєкт та зразу ініціалізувати його атрибути, ми використовуємо Конструктор (__init__)\n",
    "# В кожному конструкторі або меоді класу має бути змінна self - вказівник на обєкт\n",
    "# Ми винесли наш клас в окремий файл, а тут будемо тільки робоити його імпорт та працювати з ним\n",
    "from my_module import MyPetClabModule\n",
    "\n",
    "a = MyPetClabModule(\"Богдан\", \"Б\", 35)\n",
    "b = MyPetClabModule(\"Сергій\", \"С\", pets=[\"Собака\", \"Кіт\"], dog_name=\"Шарік\")\n",
    "c = MyPetClabModule(\"Андрій\", \"А\", pets=[\"Кіт\"], cat_name=\"Мурзік\")\n",
    "print_my_pets_class([a, b, c])"
   ]
  },
  {
   "cell_type": "code",
   "execution_count": 37,
   "metadata": {},
   "outputs": [
    {
     "name": "stdout",
     "output_type": "stream",
     "text": [
      "Богдан\n",
      "====================\n",
      "Володимир Б має домашнього улюблення: Заведи собі улюбленця!\n",
      "Володимир ще не дав їй кличку.\n",
      "Повне імя учасника: Богдан Б\n",
      "Його вік: 35\n",
      "Богдан Б\n",
      "====================\n",
      "Володимир Б має домашнього улюблення: Заведи собі улюбленця!\n",
      "Володимир ще не дав їй кличку.\n",
      "Повне імя учасника: Джеймс Бонд\n",
      "Його вік: 35\n",
      "Володимир Б\n"
     ]
    }
   ],
   "source": [
    "print(a.name)\n",
    "a.name = \"Володимир\"\n",
    "\n",
    "print_my_pets_class([a])\n",
    "\n",
    "print(a.full_name)\n",
    "\n",
    "a.full_name = \"Джеймс Бонд\"\n",
    "print_my_pets_class([a])\n",
    "\n",
    "print(a.full_name_property)"
   ]
  },
  {
   "cell_type": "markdown",
   "metadata": {},
   "source": [
    "- будемо тримати клас в окремій комірці та весь час його дописувати"
   ]
  },
  {
   "cell_type": "code",
   "execution_count": 50,
   "metadata": {},
   "outputs": [],
   "source": [
    "class MyPetClabMain:\n",
    "    participants = 0\n",
    "    # Не плутати таке присвоєння, ми через конструктор предаємо аргумент name який буде присвоєно атрибуту self.name \n",
    "    def __init__(self, name:str, surname:str, age:int=None, pets:set={}, dog_name:str=None, cat_name:str=None) -> None:\n",
    "        self.name = name\n",
    "        self.surname = surname\n",
    "        # Ми можемо навіть згуповувати передані аргументи для того щоб створити потрібний атрибут\n",
    "        self.full_name = f\"{name} {surname}\"\n",
    "        self.age = age\n",
    "        # ми зробили цю змінну через сет бо хочемо мати унікальну колекцію даних\n",
    "        self.pets = pets if len(pets)>0 else \"Заведи собі улюбленця!\"\n",
    "        self.pets_dog = self.check_breed(\"Собака\", pets, dog_name)\n",
    "        self.pets_fish = self.check_breed(\"Рибка\", pets, \"\")\n",
    "        self.pets_cat = self.check_breed(\"Кіт\", pets, cat_name)\n",
    "        MyPetClabMain.participants += 1\n",
    "    \n",
    "    @property\n",
    "    def full_name_property(self):\n",
    "        return f\"{self.name} {self.surname}\"\n",
    "\n",
    "    @property\n",
    "    def pets_amount(self):\n",
    "        return len(self.pets) if not isinstance(self.pets, str) else None\n",
    "    \n",
    "    def add_new_pet(self, breed:str, name:str):\n",
    "        if not isinstance(self.pets, str):\n",
    "            self.pets.add(breed)\n",
    "        else:\n",
    "            self.pets = {breed}\n",
    "        \n",
    "        if breed == \"Кіт\":\n",
    "            self.pets_cat = name\n",
    "        elif breed == \"Собака\":\n",
    "            self.pets_dog = name\n",
    "        elif breed == \"Рибка\":\n",
    "            self.pets_fish = name\n",
    "    \n",
    "    def remove_pets(self, breed:str):\n",
    "        print(f\"Дуже шкода що вже немає нашого улюбленця {breed}!\")\n",
    "        if not isinstance(self.pets, str):\n",
    "            self.pets.remove(breed)\n",
    "        else:\n",
    "            print(f\"У тебе не було домашнього улюбленця {breed}! {self.pets}\")\n",
    "    \n",
    "    @staticmethod\n",
    "    def invite_friend(name:str):\n",
    "        print(f\"{name} приходи до нашого клубу. Ми тобі будемо раді!\")\n",
    "\n",
    "    @staticmethod\n",
    "    def check_breed(breed:str, pets:set, name:str):\n",
    "        if breed in pets:\n",
    "            return name\n",
    "        return None\n",
    "    \n",
    "    @classmethod\n",
    "    def create_default_user(cls, ):\n",
    "        print(\"Стврюється дефолтний користувач!\")\n",
    "        return cls(\"Користувач\", \"За замовчуванням\")\n",
    "\n",
    "    @classmethod\n",
    "    def create_user_with_bithrday(cls, name, surname, birthdate):\n",
    "        try:\n",
    "            # Вираховуємо вік та виводимо результат\n",
    "            from datetime import datetime\n",
    "            birthdate = datetime.strptime(birthdate, '%Y-%m-%d')\n",
    "\n",
    "            # Отримуємо поточну дату\n",
    "            current_date = datetime.now()\n",
    "\n",
    "            # Визначаємо різницю в роках між поточною датою та датою народження\n",
    "            age = current_date.year - birthdate.year - ((current_date.month, current_date.day) < (birthdate.month, birthdate.day))\n",
    "            print(f\"Ваш вік: {age} років\")\n",
    "            return cls(name, surname, age)\n",
    "        except ValueError:\n",
    "            m = \"Неправильний формат дати. Введіть дату у форматі 'рік-місяць-день'.\"\n",
    "            print(m)\n",
    "            raise ValueError(m)\n",
    "        "
   ]
  },
  {
   "cell_type": "code",
   "execution_count": 39,
   "metadata": {},
   "outputs": [],
   "source": [
    "aa = MyPetClabMain(\"Богдан\", \"Б\", 35)\n",
    "bb = MyPetClabMain(\"Сергій\", \"С\", pets={\"Собака\", \"Кіт\"}, dog_name=\"Шарік\")\n",
    "cc = MyPetClabMain(\"Андрій\", \"А\", pets={\"Кіт\"}, cat_name=\"Мурзік\")"
   ]
  },
  {
   "cell_type": "code",
   "execution_count": 40,
   "metadata": {},
   "outputs": [
    {
     "name": "stdout",
     "output_type": "stream",
     "text": [
      "1 Богдан Б\n",
      "2 Містeр Бін\n",
      "3 Богдан Б\n"
     ]
    }
   ],
   "source": [
    "a = MyPetClabMain(\"Богдан\", \"Б\", 35)\n",
    "print(\"1\",a.full_name)\n",
    "a.full_name = \"Містeр Бін\"\n",
    "print(\"2\", a.full_name)\n",
    "\n",
    "print(\"3\",a.full_name_property)\n",
    "\n",
    "# Міняти проперті не можна, бо буде помилка!\n",
    "#a.full_name_property = \"Містер пупур\""
   ]
  },
  {
   "cell_type": "code",
   "execution_count": 41,
   "metadata": {},
   "outputs": [
    {
     "name": "stdout",
     "output_type": "stream",
     "text": [
      "Спочатку кількість тваринок у Богдан було: None\n",
      "Після додавання тваринок, у Богдан стало: 1. Імя нової тваринки: None\n"
     ]
    }
   ],
   "source": [
    "print(f\"Спочатку кількість тваринок у {aa.name} було: {aa.pets_amount}\")\n",
    "\n",
    "aa.pets = {\"Рибка\"}\n",
    "\n",
    "print(f\"Після додавання тваринок, у {aa.name} стало: {aa.pets_amount}. Імя нової тваринки: {aa.pets_fish}\")"
   ]
  },
  {
   "cell_type": "code",
   "execution_count": 42,
   "metadata": {},
   "outputs": [
    {
     "name": "stdout",
     "output_type": "stream",
     "text": [
      "У нас є наступні тваринки: {'Собака', 'Кіт'}.\n",
      " Імя собаки: Шарік. \n",
      " Імя кота: None.\n",
      " Імя рибки: None.\n",
      "У нас є наступні тваринки: {'Собака', 'Кіт'}.\n",
      " Імя собаки: Шарік. \n",
      " Імя кота: Мурка.\n",
      " Імя рибки: None.\n",
      "У нас є наступні тваринки: {'Рибка'}.\n",
      " Імя собаки: None. \n",
      " Імя кота: None.\n",
      " Імя рибки: Неони.\n",
      "Дуже шкода що вже немає нашого улюбленця Рибка!\n",
      "У нас є наступні тваринки: set().\n",
      " Імя собаки: None. \n",
      " Імя кота: None.\n",
      " Імя рибки: Неони.\n",
      "Дуже шкода що вже немає нашого улюбленця Рибка!\n",
      "У тебе не було домашнього улюбленця Рибка! Заведи собі улюбленця!\n"
     ]
    }
   ],
   "source": [
    "def print_info(obj:MyPetClabMain):\n",
    "    print(f\"У нас є наступні тваринки: {obj.pets}.\\n Імя собаки: {obj.pets_dog}. \\n Імя кота: {obj.pets_cat}.\\n Імя рибки: {obj.pets_fish}.\")\n",
    "\n",
    "print_info(bb)\n",
    "bb.add_new_pet(\"Кіт\", \"Мурка\")\n",
    "print_info(bb)\n",
    "\n",
    "aa.add_new_pet(\"Рибка\", \"Неони\")\n",
    "print_info(aa)\n",
    "aa.remove_pets(\"Рибка\")\n",
    "print_info(aa)\n",
    "\n",
    "dd = MyPetClabMain(\"Богдан\", \"Б\", 35)\n",
    "dd.remove_pets(\"Рибка\")"
   ]
  },
  {
   "cell_type": "code",
   "execution_count": 43,
   "metadata": {},
   "outputs": [
    {
     "name": "stdout",
     "output_type": "stream",
     "text": [
      "Денис приходи до нашого клубу. Ми тобі будемо раді!\n",
      "Денис приходи до нашого клубу. Ми тобі будемо раді!\n"
     ]
    }
   ],
   "source": [
    "aa.invite_friend(\"Денис\")\n",
    "\n",
    "MyPetClabMain.invite_friend(\"Денис\")"
   ]
  },
  {
   "cell_type": "code",
   "execution_count": 44,
   "metadata": {},
   "outputs": [
    {
     "name": "stdout",
     "output_type": "stream",
     "text": [
      "Кількість учасників перед створення нового обєкту: 5\n",
      "Кількість після створення обєкту: 6\n"
     ]
    }
   ],
   "source": [
    "print(f\"Кількість учасників перед створення нового обєкту: {MyPetClabMain.participants}\")\n",
    "\n",
    "ll = MyPetClabMain(\"Денис\", \"Д\")\n",
    "\n",
    "print(f\"Кількість після створення обєкту: {MyPetClabMain.participants}\")"
   ]
  },
  {
   "cell_type": "code",
   "execution_count": 45,
   "metadata": {},
   "outputs": [
    {
     "name": "stdout",
     "output_type": "stream",
     "text": [
      "Стврюється дефолтний користувач!\n",
      "Кількість після створення обєкту: 7\n"
     ]
    }
   ],
   "source": [
    "ff = MyPetClabMain.create_default_user()\n",
    "\n",
    "print(f\"Кількість після створення обєкту: {MyPetClabMain.participants}\")"
   ]
  },
  {
   "cell_type": "code",
   "execution_count": 51,
   "metadata": {},
   "outputs": [
    {
     "name": "stdout",
     "output_type": "stream",
     "text": [
      "Неправильний формат дати. Введіть дату у форматі 'рік-місяць-день'.\n"
     ]
    },
    {
     "ename": "ValueError",
     "evalue": "Неправильний формат дати. Введіть дату у форматі 'рік-місяць-день'.",
     "output_type": "error",
     "traceback": [
      "\u001b[1;31m---------------------------------------------------------------------------\u001b[0m",
      "\u001b[1;31mValueError\u001b[0m                                Traceback (most recent call last)",
      "\u001b[1;32mc:\\IT_College_Students\\2023_tk42_oop\\3_lab\\nb.ipynb Cell 17\u001b[0m line \u001b[0;36m6\n\u001b[0;32m     <a href='vscode-notebook-cell:/c%3A/IT_College_Students/2023_tk42_oop/3_lab/nb.ipynb#X22sZmlsZQ%3D%3D?line=63'>64</a>\u001b[0m \u001b[39mfrom\u001b[39;00m \u001b[39mdatetime\u001b[39;00m \u001b[39mimport\u001b[39;00m datetime\n\u001b[1;32m---> <a href='vscode-notebook-cell:/c%3A/IT_College_Students/2023_tk42_oop/3_lab/nb.ipynb#X22sZmlsZQ%3D%3D?line=64'>65</a>\u001b[0m birthdate \u001b[39m=\u001b[39m datetime\u001b[39m.\u001b[39;49mstrptime(birthdate, \u001b[39m'\u001b[39;49m\u001b[39m%\u001b[39;49m\u001b[39mY-\u001b[39;49m\u001b[39m%\u001b[39;49m\u001b[39mm-\u001b[39;49m\u001b[39m%d\u001b[39;49;00m\u001b[39m'\u001b[39;49m)\n\u001b[0;32m     <a href='vscode-notebook-cell:/c%3A/IT_College_Students/2023_tk42_oop/3_lab/nb.ipynb#X22sZmlsZQ%3D%3D?line=66'>67</a>\u001b[0m \u001b[39m# Отримуємо поточну дату\u001b[39;00m\n",
      "File \u001b[1;32mc:\\Users\\Admin\\AppData\\Local\\Programs\\Python\\Python311\\Lib\\_strptime.py:568\u001b[0m, in \u001b[0;36m_strptime_datetime\u001b[1;34m(cls, data_string, format)\u001b[0m\n\u001b[0;32m    566\u001b[0m \u001b[39m\"\"\"Return a class cls instance based on the input string and the\u001b[39;00m\n\u001b[0;32m    567\u001b[0m \u001b[39mformat string.\"\"\"\u001b[39;00m\n\u001b[1;32m--> 568\u001b[0m tt, fraction, gmtoff_fraction \u001b[39m=\u001b[39m _strptime(data_string, \u001b[39mformat\u001b[39;49m)\n\u001b[0;32m    569\u001b[0m tzname, gmtoff \u001b[39m=\u001b[39m tt[\u001b[39m-\u001b[39m\u001b[39m2\u001b[39m:]\n",
      "File \u001b[1;32mc:\\Users\\Admin\\AppData\\Local\\Programs\\Python\\Python311\\Lib\\_strptime.py:349\u001b[0m, in \u001b[0;36m_strptime\u001b[1;34m(data_string, format)\u001b[0m\n\u001b[0;32m    348\u001b[0m \u001b[39mif\u001b[39;00m \u001b[39mnot\u001b[39;00m found:\n\u001b[1;32m--> 349\u001b[0m     \u001b[39mraise\u001b[39;00m \u001b[39mValueError\u001b[39;00m(\u001b[39m\"\u001b[39m\u001b[39mtime data \u001b[39m\u001b[39m%r\u001b[39;00m\u001b[39m does not match format \u001b[39m\u001b[39m%r\u001b[39;00m\u001b[39m\"\u001b[39m \u001b[39m%\u001b[39m\n\u001b[0;32m    350\u001b[0m                      (data_string, \u001b[39mformat\u001b[39m))\n\u001b[0;32m    351\u001b[0m \u001b[39mif\u001b[39;00m \u001b[39mlen\u001b[39m(data_string) \u001b[39m!=\u001b[39m found\u001b[39m.\u001b[39mend():\n",
      "\u001b[1;31mValueError\u001b[0m: time data '14.11.2022' does not match format '%Y-%m-%d'",
      "\nDuring handling of the above exception, another exception occurred:\n",
      "\u001b[1;31mValueError\u001b[0m                                Traceback (most recent call last)",
      "\u001b[1;32mc:\\IT_College_Students\\2023_tk42_oop\\3_lab\\nb.ipynb Cell 17\u001b[0m line \u001b[0;36m1\n\u001b[1;32m----> <a href='vscode-notebook-cell:/c%3A/IT_College_Students/2023_tk42_oop/3_lab/nb.ipynb#X22sZmlsZQ%3D%3D?line=0'>1</a>\u001b[0m dt \u001b[39m=\u001b[39m MyPetClabMain\u001b[39m.\u001b[39;49mcreate_user_with_bithrday(\u001b[39m\"\u001b[39;49m\u001b[39mАртем\u001b[39;49m\u001b[39m\"\u001b[39;49m, \u001b[39m\"\u001b[39;49m\u001b[39mБ\u001b[39;49m\u001b[39m\"\u001b[39;49m, \u001b[39m\"\u001b[39;49m\u001b[39m14.11.2022\u001b[39;49m\u001b[39m\"\u001b[39;49m)\n\u001b[0;32m      <a href='vscode-notebook-cell:/c%3A/IT_College_Students/2023_tk42_oop/3_lab/nb.ipynb#X22sZmlsZQ%3D%3D?line=2'>3</a>\u001b[0m \u001b[39mprint\u001b[39m(\u001b[39mf\u001b[39m\u001b[39m\"\u001b[39m\u001b[39mСтворений новий обєкт: \u001b[39m\u001b[39m{\u001b[39;00mdt\u001b[39m.\u001b[39mname\u001b[39m}\u001b[39;00m\u001b[39m і вирахуваний вік з дати народження буде: \u001b[39m\u001b[39m{\u001b[39;00mdt\u001b[39m.\u001b[39mage\u001b[39m}\u001b[39;00m\u001b[39m\"\u001b[39m)\n",
      "\u001b[1;32mc:\\IT_College_Students\\2023_tk42_oop\\3_lab\\nb.ipynb Cell 17\u001b[0m line \u001b[0;36m7\n\u001b[0;32m     <a href='vscode-notebook-cell:/c%3A/IT_College_Students/2023_tk42_oop/3_lab/nb.ipynb#X22sZmlsZQ%3D%3D?line=74'>75</a>\u001b[0m m \u001b[39m=\u001b[39m \u001b[39m\"\u001b[39m\u001b[39mНеправильний формат дати. Введіть дату у форматі \u001b[39m\u001b[39m'\u001b[39m\u001b[39mрік-місяць-день\u001b[39m\u001b[39m'\u001b[39m\u001b[39m.\u001b[39m\u001b[39m\"\u001b[39m\n\u001b[0;32m     <a href='vscode-notebook-cell:/c%3A/IT_College_Students/2023_tk42_oop/3_lab/nb.ipynb#X22sZmlsZQ%3D%3D?line=75'>76</a>\u001b[0m \u001b[39mprint\u001b[39m(m)\n\u001b[1;32m---> <a href='vscode-notebook-cell:/c%3A/IT_College_Students/2023_tk42_oop/3_lab/nb.ipynb#X22sZmlsZQ%3D%3D?line=76'>77</a>\u001b[0m \u001b[39mraise\u001b[39;00m \u001b[39mValueError\u001b[39;00m(m)\n",
      "\u001b[1;31mValueError\u001b[0m: Неправильний формат дати. Введіть дату у форматі 'рік-місяць-день'."
     ]
    }
   ],
   "source": [
    "dt = MyPetClabMain.create_user_with_bithrday(\"Артем\", \"Б\", \"14.11.2022\")\n",
    "\n",
    "print(f\"Створений новий обєкт: {dt.name} і вирахуваний вік з дати народження буде: {dt.age}\")"
   ]
  }
 ],
 "metadata": {
  "kernelspec": {
   "display_name": "Python 3",
   "language": "python",
   "name": "python3"
  },
  "language_info": {
   "codemirror_mode": {
    "name": "ipython",
    "version": 3
   },
   "file_extension": ".py",
   "mimetype": "text/x-python",
   "name": "python",
   "nbconvert_exporter": "python",
   "pygments_lexer": "ipython3",
   "version": "3.11.5"
  }
 },
 "nbformat": 4,
 "nbformat_minor": 2
}
