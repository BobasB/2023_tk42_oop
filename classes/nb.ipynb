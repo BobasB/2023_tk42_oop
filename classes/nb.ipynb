{
 "cells": [
  {
   "cell_type": "code",
   "execution_count": 19,
   "metadata": {},
   "outputs": [],
   "source": [
    "class Empty:\n",
    "    pass\n",
    "\n",
    "class Anime:\n",
    "    def __init__(self, title: str, rating: int) -> None:\n",
    "        self.title = title\n",
    "        self.rating = rating\n",
    "    \n",
    "    def __repr__(self) -> str:\n",
    "        return f\"Обєкт класу {Anime} з назваю {self.title}\"\n",
    "    \n",
    "    def __str__(self) -> str:\n",
    "        return f\"Аніме під назвою {self.title}\"\n",
    "    \n",
    "    def __len__(self) -> str:\n",
    "        print(f\"Кількість букв у назві {len(self.title)}\")\n",
    "        return len(self.title)\n",
    "    \n",
    "    def __eq__(self, __value: object) -> bool:\n",
    "        if isinstance(__value, Anime):\n",
    "            print(f\"Порівнюємо обєкт {self.title} з {__value.title} чи в них однакові значення рейтингу:\")\n",
    "            return self.rating == __value.rating\n",
    "        print(\"Неможливо порівняти обєкти\")\n",
    "        return False\n",
    "    \n",
    "    def __add__(self, __value: object):\n",
    "        if isinstance(__value, Anime):\n",
    "            print(f\"Виконуємо додавання рейтингів {self} і {__value}\")\n",
    "            return self.rating + __value.rating\n",
    "        print(\"Неможливо виконати додавання.\")\n",
    "        return None\n",
    "    \n",
    "    def __sub__(self, __value: object):\n",
    "        return f\"віднімання\"\n",
    "\n",
    "    def __truediv__(self, __value: object):\n",
    "        return \"ділимо\"\n",
    "\n",
    "    def __mul__(self, __value: object):\n",
    "        if isinstance(__value, int):\n",
    "            return f\"Ми подивились {self} {__value} разів.\""
   ]
  },
  {
   "cell_type": "code",
   "execution_count": 21,
   "metadata": {},
   "outputs": [
    {
     "name": "stdout",
     "output_type": "stream",
     "text": [
      "<__main__.Empty object at 0x00000181770071D0> Обєкт класу <class '__main__.Anime'> з назваю UndeadUnluck Обєкт класу <class '__main__.Anime'> з назваю Combatants will be expelled\n",
      "Обєкт класу <class '__main__.Anime'> з назваю UndeadUnluck\n",
      "Аніме під назвою UndeadUnluck\n",
      "Кількість букв у назві 12\n",
      "12\n",
      "Порівнюємо обєкт UndeadUnluck з Combatants will be expelled чи в них однакові значення рейтингу:\n",
      "False\n",
      "Неможливо порівняти обєкти\n",
      "False\n",
      "Виконуємо додавання рейтингів Аніме під назвою UndeadUnluck і Аніме під назвою Combatants will be expelled\n",
      "Неможливо виконати додавання.\n",
      "14 віднімання None ділимо None Ми подивились Аніме під назвою UndeadUnluck 2 разів.\n"
     ]
    }
   ],
   "source": [
    "t = Empty()\n",
    "a = Anime(\"UndeadUnluck\", 6)\n",
    "b = Anime(\"Combatants will be expelled\", 8)\n",
    "\n",
    "print(repr(t), repr(a), repr(b))\n",
    "\n",
    "print(repr(a))\n",
    "\n",
    "print(a)\n",
    "\n",
    "print(len(a))\n",
    "\n",
    "print(a == b)\n",
    "print(a == t)\n",
    "\n",
    "print(a + b, a - b, a * b, a / b, a + t, a * 2)"
   ]
  }
 ],
 "metadata": {
  "kernelspec": {
   "display_name": "Python 3",
   "language": "python",
   "name": "python3"
  },
  "language_info": {
   "codemirror_mode": {
    "name": "ipython",
    "version": 3
   },
   "file_extension": ".py",
   "mimetype": "text/x-python",
   "name": "python",
   "nbconvert_exporter": "python",
   "pygments_lexer": "ipython3",
   "version": "3.11.5"
  }
 },
 "nbformat": 4,
 "nbformat_minor": 2
}
